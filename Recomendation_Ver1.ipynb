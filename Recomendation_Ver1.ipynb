{
 "cells": [
  {
   "cell_type": "markdown",
   "id": "4cd14a2c-e683-4429-a625-e6723aaa5ea0",
   "metadata": {},
   "source": [
    "## Libraries and Environment"
   ]
  },
  {
   "cell_type": "code",
   "execution_count": 1,
   "id": "3d217eef-e65c-47cf-a2a1-b25583019bc9",
   "metadata": {},
   "outputs": [
    {
     "name": "stdout",
     "output_type": "stream",
     "text": [
      "WARNING:tensorflow:From C:\\Users\\H\\AppData\\Roaming\\Python\\Python311\\site-packages\\keras\\src\\losses.py:2976: The name tf.losses.sparse_softmax_cross_entropy is deprecated. Please use tf.compat.v1.losses.sparse_softmax_cross_entropy instead.\n",
      "\n"
     ]
    }
   ],
   "source": [
    "#Essential libraries for data representation\n",
    "import pandas as pd\n",
    "import numpy as np\n",
    "\n",
    "#Display and plotting libraries\n",
    "from IPython.display import display\n",
    "import seaborn as sns\n",
    "import matplotlib.pyplot as plt\n",
    "\n",
    "#Statistics libraries\n",
    "from scipy import stats\n",
    "from collections import Counter\n",
    "\n",
    "#ML Libraries\n",
    "from sklearn.model_selection import train_test_split\n",
    "from sklearn.model_selection import GridSearchCV\n",
    "from sklearn.preprocessing import StandardScaler\n",
    "from sklearn.linear_model import LogisticRegression\n",
    "from sklearn.metrics import classification_report\n",
    "from sklearn.metrics import confusion_matrix\n",
    "from sklearn.tree import DecisionTreeClassifier\n",
    "from sklearn.ensemble import RandomForestClassifier\n",
    "from sklearn.metrics import accuracy_score, precision_score, recall_score, f1_score\n",
    "from sklearn.preprocessing import OneHotEncoder\n",
    "from sklearn.utils import shuffle\n",
    "\n",
    "# For dimension reduction\n",
    "from sklearn.manifold import TSNE\n",
    "from sklearn.manifold import Isomap\n",
    "from sklearn.decomposition import PCA\n",
    "\n",
    "#DNN libraries\n",
    "import tensorflow as tf\n",
    "from tensorflow.keras.models import Sequential\n",
    "\n",
    "import warnings\n",
    "warnings.filterwarnings(\"ignore\")"
   ]
  },
  {
   "cell_type": "markdown",
   "id": "d7b1b811-3b29-473f-ba68-9ed840cb06a3",
   "metadata": {},
   "source": [
    "## Load Data"
   ]
  },
  {
   "cell_type": "code",
   "execution_count": 2,
   "id": "6fd662c6-7e3f-4668-864d-b13293bcbdf1",
   "metadata": {},
   "outputs": [
    {
     "data": {
      "text/html": [
       "<div>\n",
       "<style scoped>\n",
       "    .dataframe tbody tr th:only-of-type {\n",
       "        vertical-align: middle;\n",
       "    }\n",
       "\n",
       "    .dataframe tbody tr th {\n",
       "        vertical-align: top;\n",
       "    }\n",
       "\n",
       "    .dataframe thead th {\n",
       "        text-align: right;\n",
       "    }\n",
       "</style>\n",
       "<table border=\"1\" class=\"dataframe\">\n",
       "  <thead>\n",
       "    <tr style=\"text-align: right;\">\n",
       "      <th></th>\n",
       "      <th>user</th>\n",
       "      <th>song</th>\n",
       "      <th>play_count</th>\n",
       "      <th>title</th>\n",
       "      <th>release</th>\n",
       "      <th>artist_name</th>\n",
       "      <th>year</th>\n",
       "    </tr>\n",
       "  </thead>\n",
       "  <tbody>\n",
       "    <tr>\n",
       "      <th>0</th>\n",
       "      <td>b80344d063b5ccb3212f76538f3d9e43d87dca9e</td>\n",
       "      <td>SOAKIMP12A8C130995</td>\n",
       "      <td>1</td>\n",
       "      <td>The Cove</td>\n",
       "      <td>Thicker Than Water</td>\n",
       "      <td>Jack Johnson</td>\n",
       "      <td>0</td>\n",
       "    </tr>\n",
       "    <tr>\n",
       "      <th>1</th>\n",
       "      <td>b80344d063b5ccb3212f76538f3d9e43d87dca9e</td>\n",
       "      <td>SOAPDEY12A81C210A9</td>\n",
       "      <td>1</td>\n",
       "      <td>Nothing from Nothing</td>\n",
       "      <td>To Die For</td>\n",
       "      <td>Billy Preston</td>\n",
       "      <td>1974</td>\n",
       "    </tr>\n",
       "    <tr>\n",
       "      <th>2</th>\n",
       "      <td>b80344d063b5ccb3212f76538f3d9e43d87dca9e</td>\n",
       "      <td>SOBBMDR12A8C13253B</td>\n",
       "      <td>2</td>\n",
       "      <td>Entre Dos Aguas</td>\n",
       "      <td>Flamenco Para Niños</td>\n",
       "      <td>Paco De Lucia</td>\n",
       "      <td>1976</td>\n",
       "    </tr>\n",
       "    <tr>\n",
       "      <th>3</th>\n",
       "      <td>b80344d063b5ccb3212f76538f3d9e43d87dca9e</td>\n",
       "      <td>SOBFNSP12AF72A0E22</td>\n",
       "      <td>1</td>\n",
       "      <td>Under Cold Blue Stars</td>\n",
       "      <td>Under Cold Blue Stars</td>\n",
       "      <td>Josh Rouse</td>\n",
       "      <td>2002</td>\n",
       "    </tr>\n",
       "    <tr>\n",
       "      <th>4</th>\n",
       "      <td>b80344d063b5ccb3212f76538f3d9e43d87dca9e</td>\n",
       "      <td>SOBFOVM12A58A7D494</td>\n",
       "      <td>1</td>\n",
       "      <td>Riot Radio (Soundtrack Version)</td>\n",
       "      <td>Nick &amp; Norah's Infinite Playlist - Original Mo...</td>\n",
       "      <td>The Dead 60s</td>\n",
       "      <td>0</td>\n",
       "    </tr>\n",
       "  </tbody>\n",
       "</table>\n",
       "</div>"
      ],
      "text/plain": [
       "                                       user                song  play_count  \\\n",
       "0  b80344d063b5ccb3212f76538f3d9e43d87dca9e  SOAKIMP12A8C130995           1   \n",
       "1  b80344d063b5ccb3212f76538f3d9e43d87dca9e  SOAPDEY12A81C210A9           1   \n",
       "2  b80344d063b5ccb3212f76538f3d9e43d87dca9e  SOBBMDR12A8C13253B           2   \n",
       "3  b80344d063b5ccb3212f76538f3d9e43d87dca9e  SOBFNSP12AF72A0E22           1   \n",
       "4  b80344d063b5ccb3212f76538f3d9e43d87dca9e  SOBFOVM12A58A7D494           1   \n",
       "\n",
       "                             title  \\\n",
       "0                         The Cove   \n",
       "1             Nothing from Nothing   \n",
       "2                  Entre Dos Aguas   \n",
       "3            Under Cold Blue Stars   \n",
       "4  Riot Radio (Soundtrack Version)   \n",
       "\n",
       "                                             release    artist_name  year  \n",
       "0                                 Thicker Than Water   Jack Johnson     0  \n",
       "1                                         To Die For  Billy Preston  1974  \n",
       "2                                Flamenco Para Niños  Paco De Lucia  1976  \n",
       "3                              Under Cold Blue Stars     Josh Rouse  2002  \n",
       "4  Nick & Norah's Infinite Playlist - Original Mo...   The Dead 60s     0  "
      ]
     },
     "execution_count": 2,
     "metadata": {},
     "output_type": "execute_result"
    }
   ],
   "source": [
    "data_song = pd.read_csv(\"Data\\song_dataset.csv\")\n",
    "data_song.head()"
   ]
  },
  {
   "cell_type": "code",
   "execution_count": 11,
   "id": "3f5dc3f6",
   "metadata": {},
   "outputs": [
    {
     "data": {
      "text/html": [
       "<div>\n",
       "<style scoped>\n",
       "    .dataframe tbody tr th:only-of-type {\n",
       "        vertical-align: middle;\n",
       "    }\n",
       "\n",
       "    .dataframe tbody tr th {\n",
       "        vertical-align: top;\n",
       "    }\n",
       "\n",
       "    .dataframe thead th {\n",
       "        text-align: right;\n",
       "    }\n",
       "</style>\n",
       "<table border=\"1\" class=\"dataframe\">\n",
       "  <thead>\n",
       "    <tr style=\"text-align: right;\">\n",
       "      <th></th>\n",
       "      <th>song</th>\n",
       "      <th>title</th>\n",
       "    </tr>\n",
       "  </thead>\n",
       "  <tbody>\n",
       "    <tr>\n",
       "      <th>0</th>\n",
       "      <td>SOAKIMP12A8C130995</td>\n",
       "      <td>The Cove</td>\n",
       "    </tr>\n",
       "    <tr>\n",
       "      <th>1</th>\n",
       "      <td>SOAPDEY12A81C210A9</td>\n",
       "      <td>Nothing from Nothing</td>\n",
       "    </tr>\n",
       "    <tr>\n",
       "      <th>2</th>\n",
       "      <td>SOBBMDR12A8C13253B</td>\n",
       "      <td>Entre Dos Aguas</td>\n",
       "    </tr>\n",
       "    <tr>\n",
       "      <th>3</th>\n",
       "      <td>SOBFNSP12AF72A0E22</td>\n",
       "      <td>Under Cold Blue Stars</td>\n",
       "    </tr>\n",
       "    <tr>\n",
       "      <th>4</th>\n",
       "      <td>SOBFOVM12A58A7D494</td>\n",
       "      <td>Riot Radio (Soundtrack Version)</td>\n",
       "    </tr>\n",
       "    <tr>\n",
       "      <th>5</th>\n",
       "      <td>SOBNZDC12A6D4FC103</td>\n",
       "      <td>Sin límites (I)</td>\n",
       "    </tr>\n",
       "    <tr>\n",
       "      <th>6</th>\n",
       "      <td>SOBSUJE12A6D4F8CF5</td>\n",
       "      <td>12 segundos de oscuridad</td>\n",
       "    </tr>\n",
       "    <tr>\n",
       "      <th>7</th>\n",
       "      <td>SOBVFZR12A6D4F8AE3</td>\n",
       "      <td>Ears To The Ground (Album Version)</td>\n",
       "    </tr>\n",
       "    <tr>\n",
       "      <th>8</th>\n",
       "      <td>SOBXALG12A8C13C108</td>\n",
       "      <td>Food Chain (Album Version)</td>\n",
       "    </tr>\n",
       "    <tr>\n",
       "      <th>9</th>\n",
       "      <td>SOBXHDL12A81C204C0</td>\n",
       "      <td>Stronger</td>\n",
       "    </tr>\n",
       "  </tbody>\n",
       "</table>\n",
       "</div>"
      ],
      "text/plain": [
       "                 song                               title\n",
       "0  SOAKIMP12A8C130995                            The Cove\n",
       "1  SOAPDEY12A81C210A9                Nothing from Nothing\n",
       "2  SOBBMDR12A8C13253B                     Entre Dos Aguas\n",
       "3  SOBFNSP12AF72A0E22               Under Cold Blue Stars\n",
       "4  SOBFOVM12A58A7D494     Riot Radio (Soundtrack Version)\n",
       "5  SOBNZDC12A6D4FC103                     Sin límites (I)\n",
       "6  SOBSUJE12A6D4F8CF5            12 segundos de oscuridad\n",
       "7  SOBVFZR12A6D4F8AE3  Ears To The Ground (Album Version)\n",
       "8  SOBXALG12A8C13C108          Food Chain (Album Version)\n",
       "9  SOBXHDL12A81C204C0                            Stronger"
      ]
     },
     "execution_count": 11,
     "metadata": {},
     "output_type": "execute_result"
    }
   ],
   "source": [
    "songs = data_song[['song', 'title']].drop_duplicates()\n",
    "songs.head(10)"
   ]
  },
  {
   "cell_type": "code",
   "execution_count": 92,
   "id": "558e079d-f765-47bc-b6e4-3027dceb542b",
   "metadata": {},
   "outputs": [
    {
     "data": {
      "text/html": [
       "<div>\n",
       "<style scoped>\n",
       "    .dataframe tbody tr th:only-of-type {\n",
       "        vertical-align: middle;\n",
       "    }\n",
       "\n",
       "    .dataframe tbody tr th {\n",
       "        vertical-align: top;\n",
       "    }\n",
       "\n",
       "    .dataframe thead th {\n",
       "        text-align: right;\n",
       "    }\n",
       "</style>\n",
       "<table border=\"1\" class=\"dataframe\">\n",
       "  <thead>\n",
       "    <tr style=\"text-align: right;\">\n",
       "      <th></th>\n",
       "      <th>user</th>\n",
       "      <th>song</th>\n",
       "      <th>play_count</th>\n",
       "      <th>title</th>\n",
       "      <th>release</th>\n",
       "      <th>artist_name</th>\n",
       "      <th>year</th>\n",
       "    </tr>\n",
       "  </thead>\n",
       "  <tbody>\n",
       "    <tr>\n",
       "      <th>102622</th>\n",
       "      <td>21f4ac98aa1665bd42027ba12184a939ff435f59</td>\n",
       "      <td>SOKAKHH12AF72A5BAF</td>\n",
       "      <td>3</td>\n",
       "      <td>87</td>\n",
       "      <td>Hopeless Romantic</td>\n",
       "      <td>Bouncing Souls</td>\n",
       "      <td>1999</td>\n",
       "    </tr>\n",
       "    <tr>\n",
       "      <th>102623</th>\n",
       "      <td>21f4ac98aa1665bd42027ba12184a939ff435f59</td>\n",
       "      <td>SONPOXM12A8C1440C2</td>\n",
       "      <td>4</td>\n",
       "      <td>Space Olympics</td>\n",
       "      <td>Incredibad</td>\n",
       "      <td>The Lonely Island</td>\n",
       "      <td>2009</td>\n",
       "    </tr>\n",
       "    <tr>\n",
       "      <th>102624</th>\n",
       "      <td>21f4ac98aa1665bd42027ba12184a939ff435f59</td>\n",
       "      <td>SOPREHY12AB01815F9</td>\n",
       "      <td>8</td>\n",
       "      <td>I'm On A Boat</td>\n",
       "      <td>Incredibad</td>\n",
       "      <td>The Lonely Island / T-Pain</td>\n",
       "      <td>2009</td>\n",
       "    </tr>\n",
       "    <tr>\n",
       "      <th>102625</th>\n",
       "      <td>21f4ac98aa1665bd42027ba12184a939ff435f59</td>\n",
       "      <td>SOQXKUV12A6D4FB4C9</td>\n",
       "      <td>3</td>\n",
       "      <td>Amityville</td>\n",
       "      <td>The Marshall Mathers LP</td>\n",
       "      <td>Eminem / Bizarre</td>\n",
       "      <td>2000</td>\n",
       "    </tr>\n",
       "    <tr>\n",
       "      <th>102626</th>\n",
       "      <td>21f4ac98aa1665bd42027ba12184a939ff435f59</td>\n",
       "      <td>SOSJRJP12A6D4F826F</td>\n",
       "      <td>18</td>\n",
       "      <td>Master Of Puppets</td>\n",
       "      <td>Master Of Puppets</td>\n",
       "      <td>Metallica</td>\n",
       "      <td>1986</td>\n",
       "    </tr>\n",
       "  </tbody>\n",
       "</table>\n",
       "</div>"
      ],
      "text/plain": [
       "                                            user                song  \\\n",
       "102622  21f4ac98aa1665bd42027ba12184a939ff435f59  SOKAKHH12AF72A5BAF   \n",
       "102623  21f4ac98aa1665bd42027ba12184a939ff435f59  SONPOXM12A8C1440C2   \n",
       "102624  21f4ac98aa1665bd42027ba12184a939ff435f59  SOPREHY12AB01815F9   \n",
       "102625  21f4ac98aa1665bd42027ba12184a939ff435f59  SOQXKUV12A6D4FB4C9   \n",
       "102626  21f4ac98aa1665bd42027ba12184a939ff435f59  SOSJRJP12A6D4F826F   \n",
       "\n",
       "        play_count              title                  release  \\\n",
       "102622           3                 87        Hopeless Romantic   \n",
       "102623           4     Space Olympics               Incredibad   \n",
       "102624           8      I'm On A Boat               Incredibad   \n",
       "102625           3         Amityville  The Marshall Mathers LP   \n",
       "102626          18  Master Of Puppets        Master Of Puppets   \n",
       "\n",
       "                       artist_name  year  \n",
       "102622              Bouncing Souls  1999  \n",
       "102623           The Lonely Island  2009  \n",
       "102624  The Lonely Island / T-Pain  2009  \n",
       "102625            Eminem / Bizarre  2000  \n",
       "102626                   Metallica  1986  "
      ]
     },
     "execution_count": 92,
     "metadata": {},
     "output_type": "execute_result"
    }
   ],
   "source": [
    "data_song.tail()"
   ]
  },
  {
   "cell_type": "markdown",
   "id": "df91892e-f6ba-4274-a3d1-eec090ec41bf",
   "metadata": {},
   "source": [
    "## Basic Information"
   ]
  },
  {
   "cell_type": "code",
   "execution_count": 41,
   "id": "181cc5d5-920a-4b77-aefc-5af900ae5ef3",
   "metadata": {},
   "outputs": [
    {
     "name": "stdout",
     "output_type": "stream",
     "text": [
      "Shape of the song dataset:  \n",
      "\t102627 rows \n",
      "\t7 columns\n"
     ]
    }
   ],
   "source": [
    "print(f\"Shape of the song dataset:  \\n\\t{data_song.shape[0]} rows \\n\\t{data_song.shape[1]} columns\")"
   ]
  },
  {
   "cell_type": "markdown",
   "id": "78ffb587-1852-4bf0-9465-ebd8d43c7ad3",
   "metadata": {},
   "source": [
    "#### Column Names"
   ]
  },
  {
   "cell_type": "code",
   "execution_count": 42,
   "id": "26178af5-7c37-4b75-a273-535cd014641b",
   "metadata": {},
   "outputs": [
    {
     "name": "stdout",
     "output_type": "stream",
     "text": [
      "The columns of the song dataset: \n",
      "\n"
     ]
    },
    {
     "data": {
      "text/html": [
       "<div>\n",
       "<style scoped>\n",
       "    .dataframe tbody tr th:only-of-type {\n",
       "        vertical-align: middle;\n",
       "    }\n",
       "\n",
       "    .dataframe tbody tr th {\n",
       "        vertical-align: top;\n",
       "    }\n",
       "\n",
       "    .dataframe thead th {\n",
       "        text-align: right;\n",
       "    }\n",
       "</style>\n",
       "<table border=\"1\" class=\"dataframe\">\n",
       "  <thead>\n",
       "    <tr style=\"text-align: right;\">\n",
       "      <th></th>\n",
       "      <th>Column Names</th>\n",
       "    </tr>\n",
       "  </thead>\n",
       "  <tbody>\n",
       "    <tr>\n",
       "      <th>0</th>\n",
       "      <td>user</td>\n",
       "    </tr>\n",
       "    <tr>\n",
       "      <th>1</th>\n",
       "      <td>song</td>\n",
       "    </tr>\n",
       "    <tr>\n",
       "      <th>2</th>\n",
       "      <td>play_count</td>\n",
       "    </tr>\n",
       "    <tr>\n",
       "      <th>3</th>\n",
       "      <td>title</td>\n",
       "    </tr>\n",
       "    <tr>\n",
       "      <th>4</th>\n",
       "      <td>release</td>\n",
       "    </tr>\n",
       "    <tr>\n",
       "      <th>5</th>\n",
       "      <td>artist_name</td>\n",
       "    </tr>\n",
       "    <tr>\n",
       "      <th>6</th>\n",
       "      <td>year</td>\n",
       "    </tr>\n",
       "  </tbody>\n",
       "</table>\n",
       "</div>"
      ],
      "text/plain": [
       "  Column Names\n",
       "0         user\n",
       "1         song\n",
       "2   play_count\n",
       "3        title\n",
       "4      release\n",
       "5  artist_name\n",
       "6         year"
      ]
     },
     "execution_count": 42,
     "metadata": {},
     "output_type": "execute_result"
    }
   ],
   "source": [
    "print(\"The columns of the song dataset: \\n\")\n",
    "columns_df = pd.DataFrame(data_song.columns, columns=['Column Names'])\n",
    "columns_df"
   ]
  },
  {
   "cell_type": "markdown",
   "id": "8d55a176-8611-48d5-93a0-54d87978b6c8",
   "metadata": {},
   "source": [
    "- “user” is the ID of the listener\n",
    "- “song” is the ID of the song listened\n",
    "- “play_count” is the number of times the song was listened by the user.\n",
    "- “title” is the name of the song\n",
    "- “release” is the name of the album\n",
    "- “artist_name” is the name of the artist\n",
    "- “year” is the release year."
   ]
  },
  {
   "cell_type": "markdown",
   "id": "44c3cd16-fb52-4a40-97bd-754e02732a9a",
   "metadata": {},
   "source": [
    "#### Data type"
   ]
  },
  {
   "cell_type": "code",
   "execution_count": 43,
   "id": "3e248302-5c4b-4cf5-9c40-ed2da0159c27",
   "metadata": {},
   "outputs": [
    {
     "name": "stdout",
     "output_type": "stream",
     "text": [
      "Data types of each column: \n",
      "\n",
      "user           object\n",
      "song           object\n",
      "play_count      int64\n",
      "title          object\n",
      "release        object\n",
      "artist_name    object\n",
      "year            int64\n",
      "dtype: object\n"
     ]
    }
   ],
   "source": [
    "# Display data type of each column\n",
    "data_types = data_song.dtypes\n",
    "print(\"Data types of each column: \\n\")\n",
    "print(data_types)"
   ]
  },
  {
   "cell_type": "markdown",
   "id": "95938ff8-6c52-4ad0-857e-a8b137d32d20",
   "metadata": {},
   "source": [
    "#### Genaral information"
   ]
  },
  {
   "cell_type": "code",
   "execution_count": 44,
   "id": "a96c52fa-674f-4186-bee6-f8a31c84c0b1",
   "metadata": {},
   "outputs": [
    {
     "name": "stdout",
     "output_type": "stream",
     "text": [
      "General information about the song dataset: \n",
      "\n",
      "<class 'pandas.core.frame.DataFrame'>\n",
      "RangeIndex: 102627 entries, 0 to 102626\n",
      "Data columns (total 7 columns):\n",
      " #   Column       Non-Null Count   Dtype \n",
      "---  ------       --------------   ----- \n",
      " 0   user         102627 non-null  object\n",
      " 1   song         102627 non-null  object\n",
      " 2   play_count   102627 non-null  int64 \n",
      " 3   title        102627 non-null  object\n",
      " 4   release      102627 non-null  object\n",
      " 5   artist_name  102627 non-null  object\n",
      " 6   year         102627 non-null  int64 \n",
      "dtypes: int64(2), object(5)\n",
      "memory usage: 5.5+ MB\n",
      "None\n"
     ]
    }
   ],
   "source": [
    "print(\"General information about the song dataset: \\n\")\n",
    "print(data_song.info())"
   ]
  },
  {
   "cell_type": "markdown",
   "id": "99bb60ab-be0f-448c-b46c-e13c22a010a1",
   "metadata": {},
   "source": [
    "#### Basic Statistic"
   ]
  },
  {
   "cell_type": "code",
   "execution_count": 45,
   "id": "73269a47-b186-4db6-8bfd-9f16b4d13634",
   "metadata": {},
   "outputs": [
    {
     "name": "stdout",
     "output_type": "stream",
     "text": [
      "Statistical summary description: \n",
      "\n"
     ]
    },
    {
     "data": {
      "text/html": [
       "<div>\n",
       "<style scoped>\n",
       "    .dataframe tbody tr th:only-of-type {\n",
       "        vertical-align: middle;\n",
       "    }\n",
       "\n",
       "    .dataframe tbody tr th {\n",
       "        vertical-align: top;\n",
       "    }\n",
       "\n",
       "    .dataframe thead th {\n",
       "        text-align: right;\n",
       "    }\n",
       "</style>\n",
       "<table border=\"1\" class=\"dataframe\">\n",
       "  <thead>\n",
       "    <tr style=\"text-align: right;\">\n",
       "      <th></th>\n",
       "      <th>play_count</th>\n",
       "      <th>year</th>\n",
       "    </tr>\n",
       "  </thead>\n",
       "  <tbody>\n",
       "    <tr>\n",
       "      <th>count</th>\n",
       "      <td>102627.000000</td>\n",
       "      <td>102627.000000</td>\n",
       "    </tr>\n",
       "    <tr>\n",
       "      <th>mean</th>\n",
       "      <td>2.885790</td>\n",
       "      <td>1624.812389</td>\n",
       "    </tr>\n",
       "    <tr>\n",
       "      <th>std</th>\n",
       "      <td>8.569376</td>\n",
       "      <td>781.595402</td>\n",
       "    </tr>\n",
       "    <tr>\n",
       "      <th>min</th>\n",
       "      <td>1.000000</td>\n",
       "      <td>0.000000</td>\n",
       "    </tr>\n",
       "    <tr>\n",
       "      <th>25%</th>\n",
       "      <td>1.000000</td>\n",
       "      <td>1984.000000</td>\n",
       "    </tr>\n",
       "    <tr>\n",
       "      <th>50%</th>\n",
       "      <td>1.000000</td>\n",
       "      <td>2002.000000</td>\n",
       "    </tr>\n",
       "    <tr>\n",
       "      <th>75%</th>\n",
       "      <td>3.000000</td>\n",
       "      <td>2007.000000</td>\n",
       "    </tr>\n",
       "    <tr>\n",
       "      <th>max</th>\n",
       "      <td>1890.000000</td>\n",
       "      <td>2010.000000</td>\n",
       "    </tr>\n",
       "  </tbody>\n",
       "</table>\n",
       "</div>"
      ],
      "text/plain": [
       "          play_count           year\n",
       "count  102627.000000  102627.000000\n",
       "mean        2.885790    1624.812389\n",
       "std         8.569376     781.595402\n",
       "min         1.000000       0.000000\n",
       "25%         1.000000    1984.000000\n",
       "50%         1.000000    2002.000000\n",
       "75%         3.000000    2007.000000\n",
       "max      1890.000000    2010.000000"
      ]
     },
     "execution_count": 45,
     "metadata": {},
     "output_type": "execute_result"
    }
   ],
   "source": [
    "print(\"Statistical summary description: \\n\")\n",
    "data_song.describe() "
   ]
  },
  {
   "cell_type": "markdown",
   "id": "48f64be8-2146-491d-8d3c-e9e5b6061da1",
   "metadata": {},
   "source": [
    "####  Missing values"
   ]
  },
  {
   "cell_type": "code",
   "execution_count": 93,
   "id": "bfc130cc-a58b-4931-9720-e481493e3147",
   "metadata": {},
   "outputs": [
    {
     "name": "stdout",
     "output_type": "stream",
     "text": [
      "The count of missing values for each column: \n",
      "\n"
     ]
    },
    {
     "data": {
      "text/html": [
       "<div>\n",
       "<style scoped>\n",
       "    .dataframe tbody tr th:only-of-type {\n",
       "        vertical-align: middle;\n",
       "    }\n",
       "\n",
       "    .dataframe tbody tr th {\n",
       "        vertical-align: top;\n",
       "    }\n",
       "\n",
       "    .dataframe thead th {\n",
       "        text-align: right;\n",
       "    }\n",
       "</style>\n",
       "<table border=\"1\" class=\"dataframe\">\n",
       "  <thead>\n",
       "    <tr style=\"text-align: right;\">\n",
       "      <th></th>\n",
       "      <th>Missing Values</th>\n",
       "      <th>Percentage</th>\n",
       "    </tr>\n",
       "  </thead>\n",
       "  <tbody>\n",
       "    <tr>\n",
       "      <th>user</th>\n",
       "      <td>0</td>\n",
       "      <td>0.0</td>\n",
       "    </tr>\n",
       "    <tr>\n",
       "      <th>song</th>\n",
       "      <td>0</td>\n",
       "      <td>0.0</td>\n",
       "    </tr>\n",
       "    <tr>\n",
       "      <th>play_count</th>\n",
       "      <td>0</td>\n",
       "      <td>0.0</td>\n",
       "    </tr>\n",
       "    <tr>\n",
       "      <th>title</th>\n",
       "      <td>0</td>\n",
       "      <td>0.0</td>\n",
       "    </tr>\n",
       "    <tr>\n",
       "      <th>release</th>\n",
       "      <td>0</td>\n",
       "      <td>0.0</td>\n",
       "    </tr>\n",
       "    <tr>\n",
       "      <th>artist_name</th>\n",
       "      <td>0</td>\n",
       "      <td>0.0</td>\n",
       "    </tr>\n",
       "    <tr>\n",
       "      <th>year</th>\n",
       "      <td>0</td>\n",
       "      <td>0.0</td>\n",
       "    </tr>\n",
       "  </tbody>\n",
       "</table>\n",
       "</div>"
      ],
      "text/plain": [
       "             Missing Values  Percentage\n",
       "user                      0         0.0\n",
       "song                      0         0.0\n",
       "play_count                0         0.0\n",
       "title                     0         0.0\n",
       "release                   0         0.0\n",
       "artist_name               0         0.0\n",
       "year                      0         0.0"
      ]
     },
     "execution_count": 93,
     "metadata": {},
     "output_type": "execute_result"
    }
   ],
   "source": [
    "# Check for missing values in the DataFrame\n",
    "missing_values = data_song.isnull().sum()\n",
    "\n",
    "# Calculate the percentage of missing values\n",
    "missing_percentage = (missing_values / len(data_song)) * 100\n",
    "\n",
    "# Create a DataFrame containing information\n",
    "missing_info = pd.DataFrame({\n",
    "    'Missing Values': missing_values,\n",
    "    'Percentage': missing_percentage\n",
    "})\n",
    "\n",
    "# Display the count of missing values for each column\n",
    "print(\"The count of missing values for each column: \\n\")\n",
    "missing_info"
   ]
  },
  {
   "cell_type": "markdown",
   "id": "204e5b82-1421-4912-816c-ed885438d262",
   "metadata": {},
   "source": [
    "#### Duplication checking"
   ]
  },
  {
   "cell_type": "code",
   "execution_count": 12,
   "id": "5dcee237-84cb-4047-b51b-2c27f2d8137e",
   "metadata": {},
   "outputs": [
    {
     "name": "stdout",
     "output_type": "stream",
     "text": [
      "\n",
      "Total number of duplicate rows: 1055\n",
      "Percentage of duplicate: 1.03%\n"
     ]
    },
    {
     "data": {
      "text/html": [
       "<div>\n",
       "<style scoped>\n",
       "    .dataframe tbody tr th:only-of-type {\n",
       "        vertical-align: middle;\n",
       "    }\n",
       "\n",
       "    .dataframe tbody tr th {\n",
       "        vertical-align: top;\n",
       "    }\n",
       "\n",
       "    .dataframe thead th {\n",
       "        text-align: right;\n",
       "    }\n",
       "</style>\n",
       "<table border=\"1\" class=\"dataframe\">\n",
       "  <thead>\n",
       "    <tr style=\"text-align: right;\">\n",
       "      <th></th>\n",
       "      <th>user</th>\n",
       "      <th>song</th>\n",
       "      <th>play_count</th>\n",
       "      <th>title</th>\n",
       "      <th>release</th>\n",
       "      <th>artist_name</th>\n",
       "      <th>year</th>\n",
       "    </tr>\n",
       "  </thead>\n",
       "  <tbody>\n",
       "    <tr>\n",
       "      <th>10</th>\n",
       "      <td>b80344d063b5ccb3212f76538f3d9e43d87dca9e</td>\n",
       "      <td>SOBXHDL12A81C204C0</td>\n",
       "      <td>1</td>\n",
       "      <td>Stronger</td>\n",
       "      <td>Graduation</td>\n",
       "      <td>Kanye West</td>\n",
       "      <td>2007</td>\n",
       "    </tr>\n",
       "    <tr>\n",
       "      <th>197</th>\n",
       "      <td>4bd88bfb25263a75bbdd467e74018f4ae570e5df</td>\n",
       "      <td>SOVEUVC12A6310EAF1</td>\n",
       "      <td>5</td>\n",
       "      <td>Just Lose It</td>\n",
       "      <td>Curtain Call</td>\n",
       "      <td>Eminem</td>\n",
       "      <td>2004</td>\n",
       "    </tr>\n",
       "    <tr>\n",
       "      <th>311</th>\n",
       "      <td>b64cdd1a0bd907e5e00b39e345194768e330d652</td>\n",
       "      <td>SOLQYOG12B0B80BA71</td>\n",
       "      <td>2</td>\n",
       "      <td>The Prime Time Of Your Life</td>\n",
       "      <td>Human After All</td>\n",
       "      <td>Daft Punk</td>\n",
       "      <td>2005</td>\n",
       "    </tr>\n",
       "    <tr>\n",
       "      <th>771</th>\n",
       "      <td>5a905f000fc1ff3df7ca807d57edb608863db05d</td>\n",
       "      <td>SOLQYOG12B0B80BA71</td>\n",
       "      <td>2</td>\n",
       "      <td>The Prime Time Of Your Life</td>\n",
       "      <td>Human After All</td>\n",
       "      <td>Daft Punk</td>\n",
       "      <td>2005</td>\n",
       "    </tr>\n",
       "    <tr>\n",
       "      <th>898</th>\n",
       "      <td>5a905f000fc1ff3df7ca807d57edb608863db05d</td>\n",
       "      <td>SORRCNC12A8C13FDA9</td>\n",
       "      <td>1</td>\n",
       "      <td>Is This It</td>\n",
       "      <td>Is This It</td>\n",
       "      <td>The Strokes</td>\n",
       "      <td>2001</td>\n",
       "    </tr>\n",
       "    <tr>\n",
       "      <th>949</th>\n",
       "      <td>5a905f000fc1ff3df7ca807d57edb608863db05d</td>\n",
       "      <td>SOUZBUD12A8C13FD8E</td>\n",
       "      <td>1</td>\n",
       "      <td>Killing Lies</td>\n",
       "      <td>First Impressions Of Earth</td>\n",
       "      <td>The Strokes</td>\n",
       "      <td>2005</td>\n",
       "    </tr>\n",
       "    <tr>\n",
       "      <th>1360</th>\n",
       "      <td>bd8475385f0aa78830fa6dfce9e7242164b035c8</td>\n",
       "      <td>SOAVWHY12AB017C6C0</td>\n",
       "      <td>1</td>\n",
       "      <td>Losing Touch</td>\n",
       "      <td>Day &amp; Age</td>\n",
       "      <td>The Killers</td>\n",
       "      <td>2008</td>\n",
       "    </tr>\n",
       "    <tr>\n",
       "      <th>1385</th>\n",
       "      <td>bd8475385f0aa78830fa6dfce9e7242164b035c8</td>\n",
       "      <td>SOETQJP12A6D4F6731</td>\n",
       "      <td>1</td>\n",
       "      <td>Not Big</td>\n",
       "      <td>Alright_ Still</td>\n",
       "      <td>Lily Allen</td>\n",
       "      <td>2006</td>\n",
       "    </tr>\n",
       "    <tr>\n",
       "      <th>1443</th>\n",
       "      <td>bd8475385f0aa78830fa6dfce9e7242164b035c8</td>\n",
       "      <td>SONVJUL12A6701FB7A</td>\n",
       "      <td>1</td>\n",
       "      <td>The Damage In Your Heart</td>\n",
       "      <td>Make Believe</td>\n",
       "      <td>Weezer</td>\n",
       "      <td>2005</td>\n",
       "    </tr>\n",
       "    <tr>\n",
       "      <th>1465</th>\n",
       "      <td>bd8475385f0aa78830fa6dfce9e7242164b035c8</td>\n",
       "      <td>SOSDTGC12AF72A2BC3</td>\n",
       "      <td>1</td>\n",
       "      <td>Chinese</td>\n",
       "      <td>It's Not Me_ It's You</td>\n",
       "      <td>Lily Allen</td>\n",
       "      <td>2009</td>\n",
       "    </tr>\n",
       "  </tbody>\n",
       "</table>\n",
       "</div>"
      ],
      "text/plain": [
       "                                          user                song  \\\n",
       "10    b80344d063b5ccb3212f76538f3d9e43d87dca9e  SOBXHDL12A81C204C0   \n",
       "197   4bd88bfb25263a75bbdd467e74018f4ae570e5df  SOVEUVC12A6310EAF1   \n",
       "311   b64cdd1a0bd907e5e00b39e345194768e330d652  SOLQYOG12B0B80BA71   \n",
       "771   5a905f000fc1ff3df7ca807d57edb608863db05d  SOLQYOG12B0B80BA71   \n",
       "898   5a905f000fc1ff3df7ca807d57edb608863db05d  SORRCNC12A8C13FDA9   \n",
       "949   5a905f000fc1ff3df7ca807d57edb608863db05d  SOUZBUD12A8C13FD8E   \n",
       "1360  bd8475385f0aa78830fa6dfce9e7242164b035c8  SOAVWHY12AB017C6C0   \n",
       "1385  bd8475385f0aa78830fa6dfce9e7242164b035c8  SOETQJP12A6D4F6731   \n",
       "1443  bd8475385f0aa78830fa6dfce9e7242164b035c8  SONVJUL12A6701FB7A   \n",
       "1465  bd8475385f0aa78830fa6dfce9e7242164b035c8  SOSDTGC12AF72A2BC3   \n",
       "\n",
       "      play_count                        title                     release  \\\n",
       "10             1                     Stronger                  Graduation   \n",
       "197            5                 Just Lose It                Curtain Call   \n",
       "311            2  The Prime Time Of Your Life             Human After All   \n",
       "771            2  The Prime Time Of Your Life             Human After All   \n",
       "898            1                   Is This It                  Is This It   \n",
       "949            1                 Killing Lies  First Impressions Of Earth   \n",
       "1360           1                 Losing Touch                   Day & Age   \n",
       "1385           1                      Not Big              Alright_ Still   \n",
       "1443           1     The Damage In Your Heart                Make Believe   \n",
       "1465           1                      Chinese       It's Not Me_ It's You   \n",
       "\n",
       "      artist_name  year  \n",
       "10     Kanye West  2007  \n",
       "197        Eminem  2004  \n",
       "311     Daft Punk  2005  \n",
       "771     Daft Punk  2005  \n",
       "898   The Strokes  2001  \n",
       "949   The Strokes  2005  \n",
       "1360  The Killers  2008  \n",
       "1385   Lily Allen  2006  \n",
       "1443       Weezer  2005  \n",
       "1465   Lily Allen  2009  "
      ]
     },
     "execution_count": 12,
     "metadata": {},
     "output_type": "execute_result"
    }
   ],
   "source": [
    "# Check for duplicates in the song dataset\n",
    "duplicates = data_song.duplicated()\n",
    "\n",
    "# Calculate the percentage of duplicate rows\n",
    "duplicate_percentage = (duplicates.sum() / len(data_song)) * 100\n",
    "\n",
    "# Information about duplicates\n",
    "print(f\"\\nTotal number of duplicate rows: {duplicates.sum()}\")\n",
    "print(f\"Percentage of duplicate: {duplicate_percentage:.2f}%\")\n",
    "\n",
    "# Display duplicate rows\n",
    "data_song[duplicates].head(10)"
   ]
  },
  {
   "cell_type": "markdown",
   "id": "662f0948-989c-41ac-9ce3-b7d0cb9bce19",
   "metadata": {},
   "source": [
    "#### Number of Unique Values"
   ]
  },
  {
   "cell_type": "code",
   "execution_count": 48,
   "id": "c48dc978-fdb0-49c9-9d44-30dfbc927c6c",
   "metadata": {},
   "outputs": [
    {
     "data": {
      "image/png": "[encoded data removed]",
      "text/plain": [
       "<Figure size 640x480 with 1 Axes>"
      ]
     },
     "metadata": {},
     "output_type": "display_data"
    }
   ],
   "source": [
    "# Use nunique() to count the number of unique values in each column\n",
    "unique_counts = data_song.nunique()\n",
    "\n",
    "# Display the number of unique values in the form of a chart\n",
    "fig, ax = plt.subplots()\n",
    "bars = ax.bar(unique_counts.index, unique_counts, color=\"green\")\n",
    "for bar in bars:\n",
    "    yval = bar.get_height()\n",
    "    plt.text(bar.get_x() + bar.get_width()/2, yval, round(yval, 2), ha='center', va='bottom')\n",
    "    \n",
    "ax.set_title('Number of unique values for each column')\n",
    "plt.show()"
   ]
  },
  {
   "cell_type": "markdown",
   "id": "7f8b0aa5-9c5b-44ce-8d65-ea8ad821d920",
   "metadata": {},
   "source": [
    "#### Get a count of the 'None', 'Null' & empty string and zero values"
   ]
  },
  {
   "cell_type": "code",
   "execution_count": 76,
   "id": "4755b915-120a-4b0c-9d8d-57f8a1a5b78c",
   "metadata": {},
   "outputs": [
    {
     "name": "stdout",
     "output_type": "stream",
     "text": [
      "The number of rows containing Null, None, empty string, or 0 values is:\n"
     ]
    },
    {
     "data": {
      "text/html": [
       "<div>\n",
       "<style scoped>\n",
       "    .dataframe tbody tr th:only-of-type {\n",
       "        vertical-align: middle;\n",
       "    }\n",
       "\n",
       "    .dataframe tbody tr th {\n",
       "        vertical-align: top;\n",
       "    }\n",
       "\n",
       "    .dataframe thead th {\n",
       "        text-align: right;\n",
       "    }\n",
       "</style>\n",
       "<table border=\"1\" class=\"dataframe\">\n",
       "  <thead>\n",
       "    <tr style=\"text-align: right;\">\n",
       "      <th></th>\n",
       "      <th>Count</th>\n",
       "      <th>Percentage</th>\n",
       "    </tr>\n",
       "  </thead>\n",
       "  <tbody>\n",
       "    <tr>\n",
       "      <th>user</th>\n",
       "      <td>0</td>\n",
       "      <td>0.000000</td>\n",
       "    </tr>\n",
       "    <tr>\n",
       "      <th>song</th>\n",
       "      <td>0</td>\n",
       "      <td>0.000000</td>\n",
       "    </tr>\n",
       "    <tr>\n",
       "      <th>play_count</th>\n",
       "      <td>0</td>\n",
       "      <td>0.000000</td>\n",
       "    </tr>\n",
       "    <tr>\n",
       "      <th>title</th>\n",
       "      <td>0</td>\n",
       "      <td>0.000000</td>\n",
       "    </tr>\n",
       "    <tr>\n",
       "      <th>release</th>\n",
       "      <td>0</td>\n",
       "      <td>0.000000</td>\n",
       "    </tr>\n",
       "    <tr>\n",
       "      <th>artist_name</th>\n",
       "      <td>0</td>\n",
       "      <td>0.000000</td>\n",
       "    </tr>\n",
       "    <tr>\n",
       "      <th>year</th>\n",
       "      <td>19283</td>\n",
       "      <td>18.789402</td>\n",
       "    </tr>\n",
       "  </tbody>\n",
       "</table>\n",
       "</div>"
      ],
      "text/plain": [
       "             Count  Percentage\n",
       "user             0    0.000000\n",
       "song             0    0.000000\n",
       "play_count       0    0.000000\n",
       "title            0    0.000000\n",
       "release          0    0.000000\n",
       "artist_name      0    0.000000\n",
       "year         19283   18.789402"
      ]
     },
     "execution_count": 76,
     "metadata": {},
     "output_type": "execute_result"
    }
   ],
   "source": [
    "# Function to check for NULL, None, empty string, and 0 values\"\n",
    "def check_values(value):\n",
    "    return value == \"Null\" or value is None or value == '' or value == \"0\" or value == 0\n",
    "\n",
    "# Check for each columns\n",
    "result = data_song.applymap(check_values).sum()\n",
    "\n",
    "# Calculate percentage\n",
    "percentage_result = (result / len(data_song)) * 100\n",
    "\n",
    "# Show result\n",
    "result_df = pd.DataFrame({\n",
    "    'Count': result, \n",
    "    'Percentage': percentage_result})\n",
    "\n",
    "print(\"The number of rows containing Null, None, empty string, or 0 values is:\")\n",
    "result_df"
   ]
  },
  {
   "cell_type": "markdown",
   "id": "8c91dd6d-42e8-4294-9cc2-e972e5825ebe",
   "metadata": {},
   "source": [
    "#### Check for outliers\n",
    "- Use a boxplot to identify values that fall outside the normal range"
   ]
  },
  {
   "cell_type": "code",
   "execution_count": 32,
   "id": "b519adb6-0340-4e25-bea0-caed173efdb9",
   "metadata": {},
   "outputs": [
    {
     "data": {
      "image/png": "[encoded data removed]",
      "text/plain": [
       "<Figure size 800x400 with 1 Axes>"
      ]
     },
     "metadata": {},
     "output_type": "display_data"
    }
   ],
   "source": [
    "plt.figure(figsize=(8, 4))\n",
    "sns.boxplot(data=data_song)\n",
    "plt.title(\"Boxplot of Numeric Columns\")\n",
    "plt.show()"
   ]
  },
  {
   "cell_type": "code",
   "execution_count": 63,
   "id": "12e22c54-0677-4d2a-a8f7-fcf6683ca0f0",
   "metadata": {},
   "outputs": [
    {
     "data": {
      "text/plain": [
       "8527"
      ]
     },
     "execution_count": 63,
     "metadata": {},
     "output_type": "execute_result"
    }
   ],
   "source": [
    "(data_song[\"play_count\"] > 6).sum()"
   ]
  },
  {
   "cell_type": "code",
   "execution_count": 108,
   "id": "513f9a4c-997e-4ebb-ba91-ace32f9c7867",
   "metadata": {},
   "outputs": [
    {
     "data": {
      "text/plain": [
       "19283"
      ]
     },
     "execution_count": 108,
     "metadata": {},
     "output_type": "execute_result"
    }
   ],
   "source": [
    "(data_song[\"year\"] ==0).sum()"
   ]
  },
  {
   "cell_type": "markdown",
   "id": "e7baa9b4-b7a3-4993-8c8a-25ee170f9d14",
   "metadata": {},
   "source": [
    "## Data Cleaning"
   ]
  },
  {
   "cell_type": "markdown",
   "id": "ba7cf90c-d388-404a-b052-406298b348ad",
   "metadata": {},
   "source": [
    "### Remove duplicate values "
   ]
  },
  {
   "cell_type": "code",
   "execution_count": 13,
   "id": "0464816f-f724-4ac4-a551-a07237939f07",
   "metadata": {},
   "outputs": [
    {
     "name": "stdout",
     "output_type": "stream",
     "text": [
      "The size of the song dataset after removing duplicate values:  \n",
      "\t101572 rows \n",
      "\t7 columns\n"
     ]
    }
   ],
   "source": [
    "# Remove rows with duplicate values based on all columns\n",
    "song_df = data_song.drop_duplicates()\n",
    "\n",
    "# Display the size of the song dataset after removing duplicate values.\n",
    "print(f\"The size of the song dataset after removing duplicate values:  \\n\\t{song_df.shape[0]} rows \\n\\t{song_df.shape[1]} columns\")"
   ]
  },
  {
   "cell_type": "markdown",
   "id": "189b7285-ac16-4d98-8da2-5226a40e8e42",
   "metadata": {},
   "source": [
    "## Remove outliers"
   ]
  },
  {
   "cell_type": "markdown",
   "id": "2f1e5510-5515-4248-bb29-63d0128195ec",
   "metadata": {},
   "source": [
    "### i. play_count values  \n",
    "\n",
    "- Determine the lower bound and upper bound to identify outliers.\n",
    "- Values outside this range will be considered outliers and be removed"
   ]
  },
  {
   "cell_type": "code",
   "execution_count": 14,
   "id": "05e647b0-5290-4559-b21c-16573d17a20f",
   "metadata": {},
   "outputs": [
    {
     "name": "stdout",
     "output_type": "stream",
     "text": [
      "Lower bound of play_count value:  -2.0\n",
      "Upper bound of play_count value:  6.0\n"
     ]
    }
   ],
   "source": [
    "# Determine the values Q1 and Q3\n",
    "Q1_pc = song_df['play_count'].quantile(0.25)\n",
    "Q3_pc = song_df['play_count'].quantile(0.75)\n",
    "\n",
    "# Determine the \"interquartile range\" (IQR)\n",
    "IQR_pc = Q3_pc - Q1_pc\n",
    "\n",
    "# Determine lower and upper thresholds to identify outliers\n",
    "lower_bound_pc = Q1_pc - 1.5 * IQR_pc\n",
    "upper_bound_pc = Q3_pc + 1.5 * IQR_pc\n",
    "\n",
    "# Display lower and uppoer bound\n",
    "print(\"Lower bound of play_count value: \", lower_bound_pc)\n",
    "print(\"Upper bound of play_count value: \", upper_bound_pc)"
   ]
  },
  {
   "cell_type": "code",
   "execution_count": 15,
   "id": "dfff6634",
   "metadata": {},
   "outputs": [],
   "source": [
    "from sklearn.impute import KNNImputer"
   ]
  },
  {
   "cell_type": "code",
   "execution_count": 16,
   "id": "9415c8ca-ecd8-44c6-bf20-1102b712e5c1",
   "metadata": {},
   "outputs": [
    {
     "name": "stdout",
     "output_type": "stream",
     "text": [
      "The size of the song dataset after removing play_count outliers:  \n",
      "\t93099 rows \n",
      "\t7 columns\n"
     ]
    }
   ],
   "source": [
    "# Remove lines containing outliers\n",
    "song_df = song_df[(song_df['play_count'] >= lower_bound_pc) & (song_df['play_count'] <= upper_bound_pc)]\n",
    "\n",
    "# Display the size of the song dataset after removing play_count outliers\n",
    "print(f\"The size of the song dataset after removing play_count outliers:  \\n\\t{song_df.shape[0]} rows \\n\\t{song_df.shape[1]} columns\")"
   ]
  },
  {
   "cell_type": "markdown",
   "id": "39049486-5880-4eda-ae72-826a5877a321",
   "metadata": {},
   "source": [
    "### ii. year values"
   ]
  },
  {
   "cell_type": "code",
   "execution_count": 17,
   "id": "515f3b95-0936-47af-bc5d-80ae5160c0de",
   "metadata": {},
   "outputs": [
    {
     "name": "stdout",
     "output_type": "stream",
     "text": [
      "Lower bound of play_count value:  1949.5\n",
      "Upper bound of play_count value:  2041.5\n"
     ]
    }
   ],
   "source": [
    "# Xác định các giá trị Q1 và Q3\n",
    "Q1_year = song_df['year'].quantile(0.25)\n",
    "Q3_year = song_df['year'].quantile(0.75)\n",
    "\n",
    "# Xác định khoảng giá trị \"interquartile range\" (IQR)\n",
    "IQR_year = Q3_year - Q1_year\n",
    "\n",
    "# Xác định ngưỡng dưới và trên để xác định giá trị ngoại lệ\n",
    "lower_bound_yr = Q1_year - 1.5 * IQR_year\n",
    "upper_bound_yr = Q3_year + 1.5 * IQR_year\n",
    "\n",
    "print(\"Lower bound of play_count value: \", lower_bound_yr)\n",
    "print(\"Upper bound of play_count value: \", upper_bound_yr)"
   ]
  },
  {
   "cell_type": "code",
   "execution_count": 109,
   "id": "c1579465",
   "metadata": {},
   "outputs": [
    {
     "ename": "KeyError",
     "evalue": "'year'",
     "output_type": "error",
     "traceback": [
      "\u001b[1;31m---------------------------------------------------------------------------\u001b[0m",
      "\u001b[1;31mKeyError\u001b[0m                                  Traceback (most recent call last)",
      "File \u001b[1;32mE:\\Anaconda\\Lib\\site-packages\\pandas\\core\\indexes\\base.py:3802\u001b[0m, in \u001b[0;36mIndex.get_loc\u001b[1;34m(self, key, method, tolerance)\u001b[0m\n\u001b[0;32m   3801\u001b[0m \u001b[38;5;28;01mtry\u001b[39;00m:\n\u001b[1;32m-> 3802\u001b[0m     \u001b[38;5;28;01mreturn\u001b[39;00m \u001b[38;5;28mself\u001b[39m\u001b[38;5;241m.\u001b[39m_engine\u001b[38;5;241m.\u001b[39mget_loc(casted_key)\n\u001b[0;32m   3803\u001b[0m \u001b[38;5;28;01mexcept\u001b[39;00m \u001b[38;5;167;01mKeyError\u001b[39;00m \u001b[38;5;28;01mas\u001b[39;00m err:\n",
      "File \u001b[1;32mE:\\Anaconda\\Lib\\site-packages\\pandas\\_libs\\index.pyx:138\u001b[0m, in \u001b[0;36mpandas._libs.index.IndexEngine.get_loc\u001b[1;34m()\u001b[0m\n",
      "File \u001b[1;32mE:\\Anaconda\\Lib\\site-packages\\pandas\\_libs\\index.pyx:165\u001b[0m, in \u001b[0;36mpandas._libs.index.IndexEngine.get_loc\u001b[1;34m()\u001b[0m\n",
      "File \u001b[1;32mpandas\\_libs\\hashtable_class_helper.pxi:5745\u001b[0m, in \u001b[0;36mpandas._libs.hashtable.PyObjectHashTable.get_item\u001b[1;34m()\u001b[0m\n",
      "File \u001b[1;32mpandas\\_libs\\hashtable_class_helper.pxi:5753\u001b[0m, in \u001b[0;36mpandas._libs.hashtable.PyObjectHashTable.get_item\u001b[1;34m()\u001b[0m\n",
      "\u001b[1;31mKeyError\u001b[0m: 'year'",
      "\nThe above exception was the direct cause of the following exception:\n",
      "\u001b[1;31mKeyError\u001b[0m                                  Traceback (most recent call last)",
      "Cell \u001b[1;32mIn[109], line 23\u001b[0m\n\u001b[0;32m     20\u001b[0m imputed_values \u001b[38;5;241m=\u001b[39m imputer\u001b[38;5;241m.\u001b[39mfit_transform(X_train)\n\u001b[0;32m     22\u001b[0m \u001b[38;5;66;03m# Điền giá trị thiếu trong cột \"year\" với các giá trị dự đoán\u001b[39;00m\n\u001b[1;32m---> 23\u001b[0m song_df\u001b[38;5;241m.\u001b[39mloc[song_df[\u001b[38;5;124m'\u001b[39m\u001b[38;5;124myear\u001b[39m\u001b[38;5;124m'\u001b[39m]\u001b[38;5;241m.\u001b[39misnull(), \u001b[38;5;124m'\u001b[39m\u001b[38;5;124myear\u001b[39m\u001b[38;5;124m'\u001b[39m] \u001b[38;5;241m=\u001b[39m imputed_values[:, X_train\u001b[38;5;241m.\u001b[39mcolumns\u001b[38;5;241m.\u001b[39mget_loc(\u001b[38;5;124m'\u001b[39m\u001b[38;5;124myear\u001b[39m\u001b[38;5;124m'\u001b[39m)]\n\u001b[0;32m     25\u001b[0m \u001b[38;5;66;03m# Hiển thị DataFrame sau khi điền giá trị\u001b[39;00m\n\u001b[0;32m     26\u001b[0m song_df\u001b[38;5;241m.\u001b[39mhead()\n",
      "File \u001b[1;32mE:\\Anaconda\\Lib\\site-packages\\pandas\\core\\indexes\\base.py:3804\u001b[0m, in \u001b[0;36mIndex.get_loc\u001b[1;34m(self, key, method, tolerance)\u001b[0m\n\u001b[0;32m   3802\u001b[0m     \u001b[38;5;28;01mreturn\u001b[39;00m \u001b[38;5;28mself\u001b[39m\u001b[38;5;241m.\u001b[39m_engine\u001b[38;5;241m.\u001b[39mget_loc(casted_key)\n\u001b[0;32m   3803\u001b[0m \u001b[38;5;28;01mexcept\u001b[39;00m \u001b[38;5;167;01mKeyError\u001b[39;00m \u001b[38;5;28;01mas\u001b[39;00m err:\n\u001b[1;32m-> 3804\u001b[0m     \u001b[38;5;28;01mraise\u001b[39;00m \u001b[38;5;167;01mKeyError\u001b[39;00m(key) \u001b[38;5;28;01mfrom\u001b[39;00m \u001b[38;5;21;01merr\u001b[39;00m\n\u001b[0;32m   3805\u001b[0m \u001b[38;5;28;01mexcept\u001b[39;00m \u001b[38;5;167;01mTypeError\u001b[39;00m:\n\u001b[0;32m   3806\u001b[0m     \u001b[38;5;66;03m# If we have a listlike key, _check_indexing_error will raise\u001b[39;00m\n\u001b[0;32m   3807\u001b[0m     \u001b[38;5;66;03m#  InvalidIndexError. Otherwise we fall through and re-raise\u001b[39;00m\n\u001b[0;32m   3808\u001b[0m     \u001b[38;5;66;03m#  the TypeError.\u001b[39;00m\n\u001b[0;32m   3809\u001b[0m     \u001b[38;5;28mself\u001b[39m\u001b[38;5;241m.\u001b[39m_check_indexing_error(key)\n",
      "\u001b[1;31mKeyError\u001b[0m: 'year'"
     ]
    }
   ],
   "source": [
    "# Thay thế 0 bằng NaN trong cột \"year\"\n",
    "song_df['year'] = song_df['year'].replace(0, pd.NaT)\n",
    "\n",
    "# Tạo một DataFrame mới chứa các giá trị không phải là 0 trong cột \"year\" để huấn luyện mô hình\n",
    "train_data = song_df[song_df['year'].notnull()]\n",
    "\n",
    "# Tạo một DataFrame mới chứa các giá trị là 0 trong cột \"year\" để dự đoán\n",
    "predict_data = song_df[song_df['year'].isnull()]\n",
    "\n",
    "# Chia thành features (X) và target (y)\n",
    "X_train = train_data.drop('year', axis=1)\n",
    "y_train = train_data['year']\n",
    "X_predict = predict_data.drop('year', axis=1)\n",
    "\n",
    "# Chắc chắn rằng không có cột kiểu chuỗi trong X_train\n",
    "X_train = X_train.select_dtypes(exclude=['object'])\n",
    "\n",
    "# Sử dụng mô hình K-Nearest Neighbors để dự đoán giá trị thiếu\n",
    "imputer = KNNImputer(n_neighbors=5)\n",
    "imputed_values = imputer.fit_transform(X_train)\n",
    "\n",
    "# Điền giá trị thiếu trong cột \"year\" với các giá trị dự đoán\n",
    "song_df.loc[song_df['year'].isnull(), 'year'] = imputed_values[:, X_train.columns.get_loc('year')]\n",
    "\n",
    "# Hiển thị DataFrame sau khi điền giá trị\n",
    "song_df.head()"
   ]
  },
  {
   "cell_type": "code",
   "execution_count": 18,
   "id": "69d100ca-a4b2-46a6-a5ba-3cb03a7ed50e",
   "metadata": {},
   "outputs": [
    {
     "name": "stdout",
     "output_type": "stream",
     "text": [
      "The size of the song dataset after removing year outliers:  \n",
      "\t75650 rows \n",
      "\t7 columns\n"
     ]
    }
   ],
   "source": [
    "# Remove lines containing outliers\n",
    "song_df = song_df[(song_df['year'] >= lower_bound_yr) & (song_df['year'] <= upper_bound_yr)]\n",
    "\n",
    "# Display the size of the song dataset after removing year outliers\n",
    "print(f\"The size of the song dataset after removing year outliers:  \\n\\t{song_df.shape[0]} rows \\n\\t{song_df.shape[1]} columns\")"
   ]
  },
  {
   "cell_type": "code",
   "execution_count": 19,
   "id": "f3e1f2bf-11dd-4a1c-b0d1-25a51385d324",
   "metadata": {},
   "outputs": [],
   "source": [
    "# Save cleaned dataset\n",
    "song_df.to_csv(\"cleaned_song_dataset.csv\", index=False)"
   ]
  },
  {
   "cell_type": "code",
   "execution_count": 20,
   "id": "58dd10c4-2684-4a60-aa13-3e01962f5427",
   "metadata": {},
   "outputs": [
    {
     "data": {
      "text/html": [
       "<div>\n",
       "<style scoped>\n",
       "    .dataframe tbody tr th:only-of-type {\n",
       "        vertical-align: middle;\n",
       "    }\n",
       "\n",
       "    .dataframe tbody tr th {\n",
       "        vertical-align: top;\n",
       "    }\n",
       "\n",
       "    .dataframe thead th {\n",
       "        text-align: right;\n",
       "    }\n",
       "</style>\n",
       "<table border=\"1\" class=\"dataframe\">\n",
       "  <thead>\n",
       "    <tr style=\"text-align: right;\">\n",
       "      <th></th>\n",
       "      <th>user</th>\n",
       "      <th>song</th>\n",
       "      <th>play_count</th>\n",
       "      <th>title</th>\n",
       "      <th>release</th>\n",
       "      <th>artist_name</th>\n",
       "      <th>year</th>\n",
       "    </tr>\n",
       "  </thead>\n",
       "  <tbody>\n",
       "    <tr>\n",
       "      <th>0</th>\n",
       "      <td>b80344d063b5ccb3212f76538f3d9e43d87dca9e</td>\n",
       "      <td>SOAPDEY12A81C210A9</td>\n",
       "      <td>1</td>\n",
       "      <td>Nothing from Nothing</td>\n",
       "      <td>To Die For</td>\n",
       "      <td>Billy Preston</td>\n",
       "      <td>1974</td>\n",
       "    </tr>\n",
       "    <tr>\n",
       "      <th>1</th>\n",
       "      <td>b80344d063b5ccb3212f76538f3d9e43d87dca9e</td>\n",
       "      <td>SOBBMDR12A8C13253B</td>\n",
       "      <td>2</td>\n",
       "      <td>Entre Dos Aguas</td>\n",
       "      <td>Flamenco Para Niños</td>\n",
       "      <td>Paco De Lucia</td>\n",
       "      <td>1976</td>\n",
       "    </tr>\n",
       "    <tr>\n",
       "      <th>2</th>\n",
       "      <td>b80344d063b5ccb3212f76538f3d9e43d87dca9e</td>\n",
       "      <td>SOBFNSP12AF72A0E22</td>\n",
       "      <td>1</td>\n",
       "      <td>Under Cold Blue Stars</td>\n",
       "      <td>Under Cold Blue Stars</td>\n",
       "      <td>Josh Rouse</td>\n",
       "      <td>2002</td>\n",
       "    </tr>\n",
       "    <tr>\n",
       "      <th>3</th>\n",
       "      <td>b80344d063b5ccb3212f76538f3d9e43d87dca9e</td>\n",
       "      <td>SOBSUJE12A6D4F8CF5</td>\n",
       "      <td>2</td>\n",
       "      <td>12 segundos de oscuridad</td>\n",
       "      <td>10 + Downloaded</td>\n",
       "      <td>Jorge Drexler</td>\n",
       "      <td>2006</td>\n",
       "    </tr>\n",
       "    <tr>\n",
       "      <th>4</th>\n",
       "      <td>b80344d063b5ccb3212f76538f3d9e43d87dca9e</td>\n",
       "      <td>SOBVFZR12A6D4F8AE3</td>\n",
       "      <td>1</td>\n",
       "      <td>Ears To The Ground (Album Version)</td>\n",
       "      <td>Under Cold Blue Stars</td>\n",
       "      <td>Josh Rouse</td>\n",
       "      <td>2002</td>\n",
       "    </tr>\n",
       "  </tbody>\n",
       "</table>\n",
       "</div>"
      ],
      "text/plain": [
       "                                       user                song  play_count  \\\n",
       "0  b80344d063b5ccb3212f76538f3d9e43d87dca9e  SOAPDEY12A81C210A9           1   \n",
       "1  b80344d063b5ccb3212f76538f3d9e43d87dca9e  SOBBMDR12A8C13253B           2   \n",
       "2  b80344d063b5ccb3212f76538f3d9e43d87dca9e  SOBFNSP12AF72A0E22           1   \n",
       "3  b80344d063b5ccb3212f76538f3d9e43d87dca9e  SOBSUJE12A6D4F8CF5           2   \n",
       "4  b80344d063b5ccb3212f76538f3d9e43d87dca9e  SOBVFZR12A6D4F8AE3           1   \n",
       "\n",
       "                                title                release    artist_name  \\\n",
       "0                Nothing from Nothing             To Die For  Billy Preston   \n",
       "1                     Entre Dos Aguas    Flamenco Para Niños  Paco De Lucia   \n",
       "2               Under Cold Blue Stars  Under Cold Blue Stars     Josh Rouse   \n",
       "3            12 segundos de oscuridad        10 + Downloaded  Jorge Drexler   \n",
       "4  Ears To The Ground (Album Version)  Under Cold Blue Stars     Josh Rouse   \n",
       "\n",
       "   year  \n",
       "0  1974  \n",
       "1  1976  \n",
       "2  2002  \n",
       "3  2006  \n",
       "4  2002  "
      ]
     },
     "execution_count": 20,
     "metadata": {},
     "output_type": "execute_result"
    }
   ],
   "source": [
    "pd.read_csv(\"cleaned_song_dataset.csv\").head()"
   ]
  },
  {
   "cell_type": "markdown",
   "id": "c5c172d6-85cb-40ee-bd38-d3dea9c09dea",
   "metadata": {},
   "source": [
    "## Exploratory Data Analysis \n",
    "\n",
    "- What are the most listened songs?\n",
    "- Who are the most popular artists?\n",
    "- How is the distribution of song count for users?"
   ]
  },
  {
   "cell_type": "markdown",
   "id": "39c20fd1-8ebb-44a5-94d5-0a40b6d0ad62",
   "metadata": {},
   "source": [
    "### i. What are the most listened song? \n",
    "\n",
    "##### Ver 1. "
   ]
  },
  {
   "cell_type": "code",
   "execution_count": 22,
   "id": "48386ac8-a09f-41ee-a311-949cf591419b",
   "metadata": {},
   "outputs": [
    {
     "name": "stdout",
     "output_type": "stream",
     "text": [
      "Top 10 most listened songs:\n"
     ]
    },
    {
     "data": {
      "text/html": [
       "<div>\n",
       "<style scoped>\n",
       "    .dataframe tbody tr th:only-of-type {\n",
       "        vertical-align: middle;\n",
       "    }\n",
       "\n",
       "    .dataframe tbody tr th {\n",
       "        vertical-align: top;\n",
       "    }\n",
       "\n",
       "    .dataframe thead th {\n",
       "        text-align: right;\n",
       "    }\n",
       "</style>\n",
       "<table border=\"1\" class=\"dataframe\">\n",
       "  <thead>\n",
       "    <tr style=\"text-align: right;\">\n",
       "      <th></th>\n",
       "      <th>user</th>\n",
       "      <th>song</th>\n",
       "      <th>play_count</th>\n",
       "      <th>title</th>\n",
       "      <th>release</th>\n",
       "      <th>artist_name</th>\n",
       "      <th>year</th>\n",
       "    </tr>\n",
       "  </thead>\n",
       "  <tbody>\n",
       "    <tr>\n",
       "      <th>5246</th>\n",
       "      <td>95942345306393998eb3a051ae5fa3c4d5afbaa4</td>\n",
       "      <td>SONQUQF12A8AE476D3</td>\n",
       "      <td>6</td>\n",
       "      <td>Raid</td>\n",
       "      <td>Madvillainy</td>\n",
       "      <td>Madvillain_ MED aka Medaphor</td>\n",
       "      <td>2004</td>\n",
       "    </tr>\n",
       "    <tr>\n",
       "      <th>40385</th>\n",
       "      <td>d8df72fc0d892328e92a8e7129805da4f14d65f9</td>\n",
       "      <td>SOGNRNF12A8C140591</td>\n",
       "      <td>6</td>\n",
       "      <td>Sound System</td>\n",
       "      <td>Steel Pulse/ Toots &amp; The Maytals/ Third World</td>\n",
       "      <td>Steel Pulse</td>\n",
       "      <td>1979</td>\n",
       "    </tr>\n",
       "    <tr>\n",
       "      <th>84827</th>\n",
       "      <td>ac1c7a488e016d477fd6d23ef45a8a48643c02e7</td>\n",
       "      <td>SOSOBZN12A8C1443D6</td>\n",
       "      <td>6</td>\n",
       "      <td>Busy Child</td>\n",
       "      <td>Vegas - (10th Anniversary Edition)</td>\n",
       "      <td>The Crystal Method</td>\n",
       "      <td>1997</td>\n",
       "    </tr>\n",
       "    <tr>\n",
       "      <th>69378</th>\n",
       "      <td>34c327464b7c8eaf912e6ba37cadcb64514b5900</td>\n",
       "      <td>SOKOBXE12A67ADA4BE</td>\n",
       "      <td>6</td>\n",
       "      <td>Cuckoo For Caca</td>\n",
       "      <td>King For a Day_ Fool For a Lifetime</td>\n",
       "      <td>Faith No More</td>\n",
       "      <td>1995</td>\n",
       "    </tr>\n",
       "    <tr>\n",
       "      <th>4044</th>\n",
       "      <td>01655ae6bc52e29c9cd100a7dde4e9eeae5e4031</td>\n",
       "      <td>SOENSSK12A8AE478BF</td>\n",
       "      <td>6</td>\n",
       "      <td>Airwar</td>\n",
       "      <td>Airwar</td>\n",
       "      <td>Crystal Castles</td>\n",
       "      <td>2007</td>\n",
       "    </tr>\n",
       "    <tr>\n",
       "      <th>84876</th>\n",
       "      <td>ac1c7a488e016d477fd6d23ef45a8a48643c02e7</td>\n",
       "      <td>SOUTXVB12A58A7D30D</td>\n",
       "      <td>6</td>\n",
       "      <td>Irina</td>\n",
       "      <td>Ryan Leslie</td>\n",
       "      <td>Ryan Leslie</td>\n",
       "      <td>2009</td>\n",
       "    </tr>\n",
       "    <tr>\n",
       "      <th>56624</th>\n",
       "      <td>71c1e74cec63f582da9ff77bf0dcdc06819a9740</td>\n",
       "      <td>SONYKOW12AB01849C9</td>\n",
       "      <td>6</td>\n",
       "      <td>Secrets</td>\n",
       "      <td>Waking Up</td>\n",
       "      <td>OneRepublic</td>\n",
       "      <td>2009</td>\n",
       "    </tr>\n",
       "    <tr>\n",
       "      <th>2024</th>\n",
       "      <td>a58de017cbeda1763ea002fe027ed41b4ed53109</td>\n",
       "      <td>SOWEJXA12A6701C574</td>\n",
       "      <td>6</td>\n",
       "      <td>Fix You</td>\n",
       "      <td>X &amp; Y</td>\n",
       "      <td>Coldplay</td>\n",
       "      <td>2005</td>\n",
       "    </tr>\n",
       "    <tr>\n",
       "      <th>40339</th>\n",
       "      <td>f625cabc005f268d8d9f5a46c4072bd49e3e6d4c</td>\n",
       "      <td>SOIDDNJ12AC9071B90</td>\n",
       "      <td>6</td>\n",
       "      <td>That Should Be Me</td>\n",
       "      <td>My Worlds</td>\n",
       "      <td>Justin Bieber</td>\n",
       "      <td>2010</td>\n",
       "    </tr>\n",
       "    <tr>\n",
       "      <th>11845</th>\n",
       "      <td>c01f9838d66929bd2494eb8e627054024a13d5c4</td>\n",
       "      <td>SOFJXMM12AB01851AD</td>\n",
       "      <td>6</td>\n",
       "      <td>Out On The Tiles (Album Version)</td>\n",
       "      <td>Think This</td>\n",
       "      <td>Toxik</td>\n",
       "      <td>1989</td>\n",
       "    </tr>\n",
       "  </tbody>\n",
       "</table>\n",
       "</div>"
      ],
      "text/plain": [
       "                                           user                song  \\\n",
       "5246   95942345306393998eb3a051ae5fa3c4d5afbaa4  SONQUQF12A8AE476D3   \n",
       "40385  d8df72fc0d892328e92a8e7129805da4f14d65f9  SOGNRNF12A8C140591   \n",
       "84827  ac1c7a488e016d477fd6d23ef45a8a48643c02e7  SOSOBZN12A8C1443D6   \n",
       "69378  34c327464b7c8eaf912e6ba37cadcb64514b5900  SOKOBXE12A67ADA4BE   \n",
       "4044   01655ae6bc52e29c9cd100a7dde4e9eeae5e4031  SOENSSK12A8AE478BF   \n",
       "84876  ac1c7a488e016d477fd6d23ef45a8a48643c02e7  SOUTXVB12A58A7D30D   \n",
       "56624  71c1e74cec63f582da9ff77bf0dcdc06819a9740  SONYKOW12AB01849C9   \n",
       "2024   a58de017cbeda1763ea002fe027ed41b4ed53109  SOWEJXA12A6701C574   \n",
       "40339  f625cabc005f268d8d9f5a46c4072bd49e3e6d4c  SOIDDNJ12AC9071B90   \n",
       "11845  c01f9838d66929bd2494eb8e627054024a13d5c4  SOFJXMM12AB01851AD   \n",
       "\n",
       "       play_count                             title  \\\n",
       "5246            6                              Raid   \n",
       "40385           6                      Sound System   \n",
       "84827           6                        Busy Child   \n",
       "69378           6                   Cuckoo For Caca   \n",
       "4044            6                            Airwar   \n",
       "84876           6                             Irina   \n",
       "56624           6                           Secrets   \n",
       "2024            6                           Fix You   \n",
       "40339           6                 That Should Be Me   \n",
       "11845           6  Out On The Tiles (Album Version)   \n",
       "\n",
       "                                             release  \\\n",
       "5246                                     Madvillainy   \n",
       "40385  Steel Pulse/ Toots & The Maytals/ Third World   \n",
       "84827             Vegas - (10th Anniversary Edition)   \n",
       "69378            King For a Day_ Fool For a Lifetime   \n",
       "4044                                          Airwar   \n",
       "84876                                    Ryan Leslie   \n",
       "56624                                      Waking Up   \n",
       "2024                                           X & Y   \n",
       "40339                                      My Worlds   \n",
       "11845                                     Think This   \n",
       "\n",
       "                        artist_name  year  \n",
       "5246   Madvillain_ MED aka Medaphor  2004  \n",
       "40385                   Steel Pulse  1979  \n",
       "84827            The Crystal Method  1997  \n",
       "69378                 Faith No More  1995  \n",
       "4044                Crystal Castles  2007  \n",
       "84876                   Ryan Leslie  2009  \n",
       "56624                   OneRepublic  2009  \n",
       "2024                       Coldplay  2005  \n",
       "40339                 Justin Bieber  2010  \n",
       "11845                         Toxik  1989  "
      ]
     },
     "execution_count": 22,
     "metadata": {},
     "output_type": "execute_result"
    }
   ],
   "source": [
    "most_listened_songs = song_df.sort_values(by='play_count', ascending=False)\n",
    "\n",
    "# Show top 10 most listened songs\n",
    "top_10_songs = most_listened_songs.head(10)\n",
    "\n",
    "# Display result\n",
    "print(\"Top 10 most listened songs:\")\n",
    "top_10_songs"
   ]
  },
  {
   "cell_type": "markdown",
   "id": "ee682ec6-96a0-4b67-9ee4-91d4009ce483",
   "metadata": {},
   "source": [
    "##### Ver 2. Calculate the total number of listens for each song to determine the most listened to songs"
   ]
  },
  {
   "cell_type": "code",
   "execution_count": 23,
   "id": "3552c32a-ed37-49b1-af8b-e2a3effb2863",
   "metadata": {},
   "outputs": [
    {
     "name": "stdout",
     "output_type": "stream",
     "text": [
      "Top 10 most listened songs with total listen count:\n"
     ]
    },
    {
     "data": {
      "text/html": [
       "<div>\n",
       "<style scoped>\n",
       "    .dataframe tbody tr th:only-of-type {\n",
       "        vertical-align: middle;\n",
       "    }\n",
       "\n",
       "    .dataframe tbody tr th {\n",
       "        vertical-align: top;\n",
       "    }\n",
       "\n",
       "    .dataframe thead th {\n",
       "        text-align: right;\n",
       "    }\n",
       "</style>\n",
       "<table border=\"1\" class=\"dataframe\">\n",
       "  <thead>\n",
       "    <tr style=\"text-align: right;\">\n",
       "      <th></th>\n",
       "      <th>play_count</th>\n",
       "    </tr>\n",
       "    <tr>\n",
       "      <th>title</th>\n",
       "      <th></th>\n",
       "    </tr>\n",
       "  </thead>\n",
       "  <tbody>\n",
       "    <tr>\n",
       "      <th>Use Somebody</th>\n",
       "      <td>340</td>\n",
       "    </tr>\n",
       "    <tr>\n",
       "      <th>Undo</th>\n",
       "      <td>333</td>\n",
       "    </tr>\n",
       "    <tr>\n",
       "      <th>Secrets</th>\n",
       "      <td>320</td>\n",
       "    </tr>\n",
       "    <tr>\n",
       "      <th>You're The One</th>\n",
       "      <td>316</td>\n",
       "    </tr>\n",
       "    <tr>\n",
       "      <th>Somebody To Love</th>\n",
       "      <td>293</td>\n",
       "    </tr>\n",
       "    <tr>\n",
       "      <th>Yellow</th>\n",
       "      <td>285</td>\n",
       "    </tr>\n",
       "    <tr>\n",
       "      <th>Revelry</th>\n",
       "      <td>281</td>\n",
       "    </tr>\n",
       "    <tr>\n",
       "      <th>Love Story</th>\n",
       "      <td>268</td>\n",
       "    </tr>\n",
       "    <tr>\n",
       "      <th>Fireflies</th>\n",
       "      <td>242</td>\n",
       "    </tr>\n",
       "    <tr>\n",
       "      <th>Tive Sim</th>\n",
       "      <td>213</td>\n",
       "    </tr>\n",
       "  </tbody>\n",
       "</table>\n",
       "</div>"
      ],
      "text/plain": [
       "                  play_count\n",
       "title                       \n",
       "Use Somebody             340\n",
       "Undo                     333\n",
       "Secrets                  320\n",
       "You're The One           316\n",
       "Somebody To Love         293\n",
       "Yellow                   285\n",
       "Revelry                  281\n",
       "Love Story               268\n",
       "Fireflies                242\n",
       "Tive Sim                 213"
      ]
     },
     "execution_count": 23,
     "metadata": {},
     "output_type": "execute_result"
    }
   ],
   "source": [
    "# Calculate the total number of listens for each song\n",
    "total_listen_count = song_df.groupby('title')['play_count'].sum()\n",
    "\n",
    "# sorted by total number of listens in descending order\n",
    "most_listened_songs = total_listen_count.sort_values(ascending=False)\n",
    "\n",
    "# Displays the 10 most listened to songs\n",
    "top_10_songs = pd.DataFrame(most_listened_songs.nlargest(10))\n",
    "\n",
    "# Show result\n",
    "print(\"Top 10 most listened songs with total listen count:\")\n",
    "top_10_songs"
   ]
  },
  {
   "cell_type": "code",
   "execution_count": 24,
   "id": "26e5d671-e4b6-4499-a88d-3f21f90d4bc7",
   "metadata": {},
   "outputs": [
    {
     "data": {
      "text/plain": [
       "<Figure size 1200x600 with 0 Axes>"
      ]
     },
     "metadata": {},
     "output_type": "display_data"
    },
    {
     "data": {
      "image/png": "[encoded data removed]",
      "text/plain": [
       "<Figure size 640x480 with 1 Axes>"
      ]
     },
     "metadata": {},
     "output_type": "display_data"
    }
   ],
   "source": [
    "# Visualization\n",
    "plt.figure(figsize=(12, 6))\n",
    "top_10_songs.plot(kind='bar', color='green')\n",
    "plt.title('Top 10 Most Listened Songs')\n",
    "plt.xlabel('Song Title')\n",
    "plt.ylabel('Total Listen Count')\n",
    "plt.xticks(rotation=45, ha='right') \n",
    "plt.show()"
   ]
  },
  {
   "cell_type": "code",
   "execution_count": 25,
   "id": "4ca977df-074c-4cc9-99b1-505b969930e0",
   "metadata": {},
   "outputs": [
    {
     "data": {
      "text/plain": [
       "340"
      ]
     },
     "execution_count": 25,
     "metadata": {},
     "output_type": "execute_result"
    }
   ],
   "source": [
    "# test\n",
    "song_df.loc[song_df['title'] == 'Use Somebody', 'play_count'].sum()"
   ]
  },
  {
   "cell_type": "markdown",
   "id": "07ae183f-8943-41a4-91d8-e661403cf83d",
   "metadata": {},
   "source": [
    "### ii. Who are the most popular artists?"
   ]
  },
  {
   "cell_type": "code",
   "execution_count": 26,
   "id": "26863aea-d851-43b4-9c7c-188ff56fa09c",
   "metadata": {},
   "outputs": [
    {
     "data": {
      "text/html": [
       "<div>\n",
       "<style scoped>\n",
       "    .dataframe tbody tr th:only-of-type {\n",
       "        vertical-align: middle;\n",
       "    }\n",
       "\n",
       "    .dataframe tbody tr th {\n",
       "        vertical-align: top;\n",
       "    }\n",
       "\n",
       "    .dataframe thead th {\n",
       "        text-align: right;\n",
       "    }\n",
       "</style>\n",
       "<table border=\"1\" class=\"dataframe\">\n",
       "  <thead>\n",
       "    <tr style=\"text-align: right;\">\n",
       "      <th></th>\n",
       "      <th>play_count</th>\n",
       "    </tr>\n",
       "    <tr>\n",
       "      <th>artist_name</th>\n",
       "      <th></th>\n",
       "    </tr>\n",
       "  </thead>\n",
       "  <tbody>\n",
       "    <tr>\n",
       "      <th>Coldplay</th>\n",
       "      <td>1367</td>\n",
       "    </tr>\n",
       "    <tr>\n",
       "      <th>The Black Keys</th>\n",
       "      <td>1152</td>\n",
       "    </tr>\n",
       "    <tr>\n",
       "      <th>Kings Of Leon</th>\n",
       "      <td>966</td>\n",
       "    </tr>\n",
       "    <tr>\n",
       "      <th>Eminem</th>\n",
       "      <td>840</td>\n",
       "    </tr>\n",
       "    <tr>\n",
       "      <th>Justin Bieber</th>\n",
       "      <td>774</td>\n",
       "    </tr>\n",
       "    <tr>\n",
       "      <th>Jack Johnson</th>\n",
       "      <td>740</td>\n",
       "    </tr>\n",
       "    <tr>\n",
       "      <th>Daft Punk</th>\n",
       "      <td>648</td>\n",
       "    </tr>\n",
       "    <tr>\n",
       "      <th>Radiohead</th>\n",
       "      <td>638</td>\n",
       "    </tr>\n",
       "    <tr>\n",
       "      <th>OneRepublic</th>\n",
       "      <td>616</td>\n",
       "    </tr>\n",
       "    <tr>\n",
       "      <th>Taylor Swift</th>\n",
       "      <td>599</td>\n",
       "    </tr>\n",
       "  </tbody>\n",
       "</table>\n",
       "</div>"
      ],
      "text/plain": [
       "                play_count\n",
       "artist_name               \n",
       "Coldplay              1367\n",
       "The Black Keys        1152\n",
       "Kings Of Leon          966\n",
       "Eminem                 840\n",
       "Justin Bieber          774\n",
       "Jack Johnson           740\n",
       "Daft Punk              648\n",
       "Radiohead              638\n",
       "OneRepublic            616\n",
       "Taylor Swift           599"
      ]
     },
     "execution_count": 26,
     "metadata": {},
     "output_type": "execute_result"
    }
   ],
   "source": [
    "# Calculate the total number of listens for each artist\n",
    "total_listen_count_by_artist = song_df.groupby('artist_name')['play_count'].sum()\n",
    "\n",
    "# Sort by total number of listens in descending order\n",
    "most_popular_artists = total_listen_count_by_artist.sort_values(ascending=False)\n",
    "\n",
    "# Showing the 10 most popular artists\n",
    "top_10_artists = pd.DataFrame(most_popular_artists.head(10))\n",
    "\n",
    "# Display result \n",
    "top_10_artists\n"
   ]
  },
  {
   "cell_type": "code",
   "execution_count": 27,
   "id": "8c712a90-e8cc-4529-9dcc-fac1e06bb63d",
   "metadata": {},
   "outputs": [
    {
     "data": {
      "text/plain": [
       "<Figure size 1200x600 with 0 Axes>"
      ]
     },
     "metadata": {},
     "output_type": "display_data"
    },
    {
     "data": {
      "image/png": "[encoded data removed]",
      "text/plain": [
       "<Figure size 640x480 with 1 Axes>"
      ]
     },
     "metadata": {},
     "output_type": "display_data"
    }
   ],
   "source": [
    "# Draw a column chart\n",
    "plt.figure(figsize=(12, 6))\n",
    "top_10_artists.plot(kind='bar', color='lightcoral')\n",
    "plt.title('Top 10 Most Popular Artists')\n",
    "plt.xlabel('Artist Name')\n",
    "plt.ylabel('Total Listen Count')\n",
    "plt.xticks(rotation=45, ha='right') \n",
    "plt.show()"
   ]
  },
  {
   "cell_type": "code",
   "execution_count": 28,
   "id": "06c6dd67-4465-485d-9537-9d73761f50c9",
   "metadata": {},
   "outputs": [
    {
     "data": {
      "text/plain": [
       "artist_name\n",
       "Nadia Ali                  1\n",
       "Nagisa Ni Te               1\n",
       "Naked Eyes                 1\n",
       "Nakisenyi Women's Group    1\n",
       "Nanci Griffith             1\n",
       "Nancy Wilson               1\n",
       "Narco                      1\n",
       "Narcotic Thrust            1\n",
       "Nas featuring Mobb Deep    1\n",
       "Lawrence Arabia            1\n",
       "Name: play_count, dtype: int64"
      ]
     },
     "execution_count": 28,
     "metadata": {},
     "output_type": "execute_result"
    }
   ],
   "source": [
    "top_10_artists_bottom = most_popular_artists.tail(10)\n",
    "top_10_artists_bottom"
   ]
  },
  {
   "cell_type": "markdown",
   "id": "ea8544b2-9324-4eb9-84c6-9e3cd03b1636",
   "metadata": {},
   "source": [
    "### iii. How is the distribution of song count for users?"
   ]
  },
  {
   "cell_type": "code",
   "execution_count": 29,
   "id": "13707a04-812b-4681-aeef-242f8e44e3e5",
   "metadata": {},
   "outputs": [
    {
     "data": {
      "image/png": "[encoded data removed]",
      "text/plain": [
       "<Figure size 1000x600 with 1 Axes>"
      ]
     },
     "metadata": {},
     "output_type": "display_data"
    }
   ],
   "source": [
    "# Get the number of songs for each user\n",
    "song_count_per_user = song_df.groupby('user')['song'].count()\n",
    "\n",
    "# plot distribution\n",
    "plt.figure(figsize=(10, 6))\n",
    "plt.hist(song_count_per_user, bins=50, color='skyblue', edgecolor='black')\n",
    "plt.title('Distribution of Song Count for Users')\n",
    "plt.xlabel('Number of Songs')\n",
    "plt.ylabel('Number of Users')\n",
    "plt.grid(True)\n",
    "plt.show()"
   ]
  },
  {
   "cell_type": "markdown",
   "id": "5d8e38fb-3831-41d4-ba3a-63ae3c75cc01",
   "metadata": {},
   "source": [
    "### discuss your findings."
   ]
  },
  {
   "cell_type": "markdown",
   "id": "205e5e57-387b-4c4a-b220-91d25ab0b453",
   "metadata": {},
   "source": [
    "## Implement a recommendation engine\n",
    "\n",
    "\n",
    "-   Implement a recommendation engine which takes as input a user in the database and recommends one (or multiple) song(s) he has not listened to yet"
   ]
  },
  {
   "cell_type": "code",
   "execution_count": 38,
   "id": "5f68187a-cc8f-4049-abb3-a38241df8408",
   "metadata": {},
   "outputs": [
    {
     "name": "stdout",
     "output_type": "stream",
     "text": [
      "Computing the msd similarity matrix...\n",
      "Done computing similarity matrix.\n"
     ]
    }
   ],
   "source": [
    "from surprise import Dataset, Reader, KNNBasic, SVD\n",
    "from surprise.model_selection import train_test_split\n",
    "\n",
    "# Create a Reader object to define the play_count range\n",
    "reader = Reader(rating_scale=(0, song_df['play_count'].max()))\n",
    "\n",
    "# Create a dataset from song_df dataframe\n",
    "data = Dataset.load_from_df(song_df[['user', 'title', 'play_count']], reader)\n",
    "\n",
    "# Divide the data into training set and test set\n",
    "trainset, testset = train_test_split(data, test_size=0.2, random_state=42)\n",
    "\n",
    "# Collaborative Filtering\n",
    "collab_model = KNNBasic(sim_options={'user_based': True})\n",
    "collab_model.fit(trainset)\n",
    "\n",
    "\n",
    "# A recommendation function using Collaborative Filtering\n",
    "def collaborative_filtering_recommendation(user_id, model, df):\n",
    "    # Get a list of all songs listened to by the user\n",
    "    listened_songs = df[df['user'] == user_id]['song'].tolist()\n",
    "\n",
    "    # Find unheard songs\n",
    "    all_songs = df['title'].unique()\n",
    "    unheard_songs = [song for song in all_songs if song not in listened_songs]\n",
    "\n",
    "    # Give users suggestions from unheard songs\n",
    "    recommendations = [(song, model.predict(user_id, song).est) for song in unheard_songs]\n",
    "\n",
    "    # Sort and get top k suggestions\n",
    "    recommendations = sorted(recommendations, key=lambda x: x[1], reverse=True)[:10]\n",
    "    \n",
    "    return recommendations\n"
   ]
  },
  {
   "cell_type": "code",
   "execution_count": 41,
   "id": "d0343b2d-d555-410d-a65d-bb7895f1d457",
   "metadata": {},
   "outputs": [
    {
     "name": "stdout",
     "output_type": "stream",
     "text": [
      "Collaborative Filtering Recommendations:\n",
      "Song: Imma Be - Estimate: 6\n",
      "Song: Déjame Ir - Estimate: 6\n",
      "Song: El Hombre Dirigente - Estimate: 6\n",
      "Song: Always - Estimate: 6\n",
      "Song: Para Volver A Amar - Estimate: 6\n",
      "Song: Kansas City - Estimate: 6\n",
      "Song: Move Ya Body - Estimate: 6\n",
      "Song: Undo - Estimate: 5.999999999999999\n",
      "Song: Definition Of A Hero - Estimate: 5.999999999999999\n",
      "Song: There's A Fire - Estimate: 5.999999999999999\n"
     ]
    }
   ],
   "source": [
    "# Test\n",
    "user_id = '59bad0aea569a12d785e401d185f8814d128333e'\n",
    "\n",
    "# Collaborative Filtering\n",
    "collab_recommendations = collaborative_filtering_recommendation(user_id, collab_model, song_df)\n",
    "\n",
    "# In ra kết quả\n",
    "print(\"Collaborative Filtering Recommendations:\")\n",
    "for recommendation in collab_recommendations: \n",
    "    print(f\"Song: {recommendation[0]} - Estimate: {recommendation[1]}\")"
   ]
  },
  {
   "cell_type": "code",
   "execution_count": 42,
   "id": "3c9d1487-438a-432f-810e-d5d5732e979e",
   "metadata": {},
   "outputs": [
    {
     "data": {
      "text/html": [
       "<div>\n",
       "<style scoped>\n",
       "    .dataframe tbody tr th:only-of-type {\n",
       "        vertical-align: middle;\n",
       "    }\n",
       "\n",
       "    .dataframe tbody tr th {\n",
       "        vertical-align: top;\n",
       "    }\n",
       "\n",
       "    .dataframe thead th {\n",
       "        text-align: right;\n",
       "    }\n",
       "</style>\n",
       "<table border=\"1\" class=\"dataframe\">\n",
       "  <thead>\n",
       "    <tr style=\"text-align: right;\">\n",
       "      <th></th>\n",
       "      <th>user</th>\n",
       "      <th>song</th>\n",
       "      <th>play_count</th>\n",
       "      <th>title</th>\n",
       "      <th>release</th>\n",
       "      <th>artist_name</th>\n",
       "      <th>year</th>\n",
       "    </tr>\n",
       "  </thead>\n",
       "  <tbody>\n",
       "    <tr>\n",
       "      <th>99541</th>\n",
       "      <td>59bad0aea569a12d785e401d185f8814d128333e</td>\n",
       "      <td>SOBEVOP12A8AE4988E</td>\n",
       "      <td>1</td>\n",
       "      <td>Heaven On Earth</td>\n",
       "      <td>Blackout</td>\n",
       "      <td>Britney Spears</td>\n",
       "      <td>2007</td>\n",
       "    </tr>\n",
       "    <tr>\n",
       "      <th>99543</th>\n",
       "      <td>59bad0aea569a12d785e401d185f8814d128333e</td>\n",
       "      <td>SOCUYHY12AB018A0C8</td>\n",
       "      <td>1</td>\n",
       "      <td>3</td>\n",
       "      <td>3</td>\n",
       "      <td>Britney Spears</td>\n",
       "      <td>2009</td>\n",
       "    </tr>\n",
       "    <tr>\n",
       "      <th>99545</th>\n",
       "      <td>59bad0aea569a12d785e401d185f8814d128333e</td>\n",
       "      <td>SOFYOBA12A8C13E1B5</td>\n",
       "      <td>2</td>\n",
       "      <td>(I Got That) Boom Boom</td>\n",
       "      <td>In The Zone</td>\n",
       "      <td>Britney Spears featuring Ying Yang Twins</td>\n",
       "      <td>2003</td>\n",
       "    </tr>\n",
       "    <tr>\n",
       "      <th>99547</th>\n",
       "      <td>59bad0aea569a12d785e401d185f8814d128333e</td>\n",
       "      <td>SOJOIMC12AB01800A0</td>\n",
       "      <td>1</td>\n",
       "      <td>...Baby One More Time</td>\n",
       "      <td>Essential - Girls Night In</td>\n",
       "      <td>Britney Spears</td>\n",
       "      <td>1998</td>\n",
       "    </tr>\n",
       "    <tr>\n",
       "      <th>99548</th>\n",
       "      <td>59bad0aea569a12d785e401d185f8814d128333e</td>\n",
       "      <td>SOJTUED12AF729F915</td>\n",
       "      <td>2</td>\n",
       "      <td>Bailamos</td>\n",
       "      <td>Greatest Hits</td>\n",
       "      <td>Enrique Iglesias</td>\n",
       "      <td>1998</td>\n",
       "    </tr>\n",
       "    <tr>\n",
       "      <th>99549</th>\n",
       "      <td>59bad0aea569a12d785e401d185f8814d128333e</td>\n",
       "      <td>SOJTUED12AF729F915</td>\n",
       "      <td>2</td>\n",
       "      <td>Bailamos</td>\n",
       "      <td>Hero</td>\n",
       "      <td>Enrique Iglesias</td>\n",
       "      <td>1998</td>\n",
       "    </tr>\n",
       "    <tr>\n",
       "      <th>99552</th>\n",
       "      <td>59bad0aea569a12d785e401d185f8814d128333e</td>\n",
       "      <td>SOQVJWF12A58A801EF</td>\n",
       "      <td>5</td>\n",
       "      <td>Animal</td>\n",
       "      <td>Animal</td>\n",
       "      <td>Ke$ha</td>\n",
       "      <td>2010</td>\n",
       "    </tr>\n",
       "    <tr>\n",
       "      <th>99553</th>\n",
       "      <td>59bad0aea569a12d785e401d185f8814d128333e</td>\n",
       "      <td>SOSDGEH12A8C13E0F5</td>\n",
       "      <td>1</td>\n",
       "      <td>Cuentame</td>\n",
       "      <td>Barrio Fino</td>\n",
       "      <td>Daddy Yankee</td>\n",
       "      <td>2004</td>\n",
       "    </tr>\n",
       "    <tr>\n",
       "      <th>99554</th>\n",
       "      <td>59bad0aea569a12d785e401d185f8814d128333e</td>\n",
       "      <td>SOUSZSW12AB01800C2</td>\n",
       "      <td>1</td>\n",
       "      <td>Toxic</td>\n",
       "      <td>The Singles Collection</td>\n",
       "      <td>Britney Spears</td>\n",
       "      <td>2003</td>\n",
       "    </tr>\n",
       "    <tr>\n",
       "      <th>99558</th>\n",
       "      <td>59bad0aea569a12d785e401d185f8814d128333e</td>\n",
       "      <td>SOWAJYA12A67020673</td>\n",
       "      <td>1</td>\n",
       "      <td>El Muro</td>\n",
       "      <td>Barrio Fino</td>\n",
       "      <td>Daddy Yankee</td>\n",
       "      <td>2004</td>\n",
       "    </tr>\n",
       "  </tbody>\n",
       "</table>\n",
       "</div>"
      ],
      "text/plain": [
       "                                           user                song  \\\n",
       "99541  59bad0aea569a12d785e401d185f8814d128333e  SOBEVOP12A8AE4988E   \n",
       "99543  59bad0aea569a12d785e401d185f8814d128333e  SOCUYHY12AB018A0C8   \n",
       "99545  59bad0aea569a12d785e401d185f8814d128333e  SOFYOBA12A8C13E1B5   \n",
       "99547  59bad0aea569a12d785e401d185f8814d128333e  SOJOIMC12AB01800A0   \n",
       "99548  59bad0aea569a12d785e401d185f8814d128333e  SOJTUED12AF729F915   \n",
       "99549  59bad0aea569a12d785e401d185f8814d128333e  SOJTUED12AF729F915   \n",
       "99552  59bad0aea569a12d785e401d185f8814d128333e  SOQVJWF12A58A801EF   \n",
       "99553  59bad0aea569a12d785e401d185f8814d128333e  SOSDGEH12A8C13E0F5   \n",
       "99554  59bad0aea569a12d785e401d185f8814d128333e  SOUSZSW12AB01800C2   \n",
       "99558  59bad0aea569a12d785e401d185f8814d128333e  SOWAJYA12A67020673   \n",
       "\n",
       "       play_count                   title                     release  \\\n",
       "99541           1         Heaven On Earth                    Blackout   \n",
       "99543           1                       3                           3   \n",
       "99545           2  (I Got That) Boom Boom                 In The Zone   \n",
       "99547           1   ...Baby One More Time  Essential - Girls Night In   \n",
       "99548           2                Bailamos               Greatest Hits   \n",
       "99549           2                Bailamos                        Hero   \n",
       "99552           5                  Animal                      Animal   \n",
       "99553           1                Cuentame                 Barrio Fino   \n",
       "99554           1                   Toxic      The Singles Collection   \n",
       "99558           1                 El Muro                 Barrio Fino   \n",
       "\n",
       "                                    artist_name  year  \n",
       "99541                            Britney Spears  2007  \n",
       "99543                            Britney Spears  2009  \n",
       "99545  Britney Spears featuring Ying Yang Twins  2003  \n",
       "99547                            Britney Spears  1998  \n",
       "99548                          Enrique Iglesias  1998  \n",
       "99549                          Enrique Iglesias  1998  \n",
       "99552                                     Ke$ha  2010  \n",
       "99553                              Daddy Yankee  2004  \n",
       "99554                            Britney Spears  2003  \n",
       "99558                              Daddy Yankee  2004  "
      ]
     },
     "execution_count": 42,
     "metadata": {},
     "output_type": "execute_result"
    }
   ],
   "source": [
    "song_df[song_df[\"user\"] == \"59bad0aea569a12d785e401d185f8814d128333e\"]"
   ]
  },
  {
   "cell_type": "markdown",
   "id": "52e4daa0-6ad0-4c8e-8e85-d99b9ea9ccbe",
   "metadata": {},
   "source": [
    "## API "
   ]
  },
  {
   "cell_type": "code",
   "execution_count": 44,
   "id": "2febaf22-f3fe-4541-9a0d-86663b0f4356",
   "metadata": {},
   "outputs": [
    {
     "name": "stdout",
     "output_type": "stream",
     "text": [
      "Collecting flask\n",
      "  Downloading flask-3.0.0-py3-none-any.whl.metadata (3.6 kB)\n",
      "Requirement already satisfied: Werkzeug>=3.0.0 in /Library/Frameworks/Python.framework/Versions/3.10/lib/python3.10/site-packages (from flask) (3.0.1)\n",
      "Requirement already satisfied: Jinja2>=3.1.2 in /Library/Frameworks/Python.framework/Versions/3.10/lib/python3.10/site-packages (from flask) (3.1.2)\n",
      "Collecting itsdangerous>=2.1.2 (from flask)\n",
      "  Downloading itsdangerous-2.1.2-py3-none-any.whl (15 kB)\n",
      "Collecting click>=8.1.3 (from flask)\n",
      "  Downloading click-8.1.7-py3-none-any.whl.metadata (3.0 kB)\n",
      "Collecting blinker>=1.6.2 (from flask)\n",
      "  Downloading blinker-1.7.0-py3-none-any.whl.metadata (1.9 kB)\n",
      "Requirement already satisfied: MarkupSafe>=2.0 in /Library/Frameworks/Python.framework/Versions/3.10/lib/python3.10/site-packages (from Jinja2>=3.1.2->flask) (2.1.3)\n",
      "Downloading flask-3.0.0-py3-none-any.whl (99 kB)\n",
      "\u001b[2K   \u001b[90m━━━━━━━━━━━━━━━━━━━━━━━━━━━━━━━━━━━━━━━━\u001b[0m \u001b[32m99.7/99.7 kB\u001b[0m \u001b[31m4.5 MB/s\u001b[0m eta \u001b[36m0:00:00\u001b[0m\n",
      "\u001b[?25hDownloading blinker-1.7.0-py3-none-any.whl (13 kB)\n",
      "Downloading click-8.1.7-py3-none-any.whl (97 kB)\n",
      "\u001b[2K   \u001b[90m━━━━━━━━━━━━━━━━━━━━━━━━━━━━━━━━━━━━━━━━\u001b[0m \u001b[32m97.9/97.9 kB\u001b[0m \u001b[31m13.3 MB/s\u001b[0m eta \u001b[36m0:00:00\u001b[0m\n",
      "\u001b[?25hInstalling collected packages: itsdangerous, click, blinker, flask\n",
      "Successfully installed blinker-1.7.0 click-8.1.7 flask-3.0.0 itsdangerous-2.1.2\n"
     ]
    }
   ],
   "source": [
    "!pip install flask"
   ]
  },
  {
   "cell_type": "markdown",
   "id": "4a5fe136-ead9-4cc7-a20c-b5864eb72881",
   "metadata": {},
   "source": [
    "### Collaborative Filtering:\n",
    "**Pros:**\n",
    "- Does not require information about the content of the products.\n",
    "- Effective with large datasets and can uncover complex relationships.\n",
    "\n",
    "**Cons:**\n",
    "- For new users, there may not be enough information to make accurate recommendations.\n",
    "- Faces the cold start problem with new products or users.\n",
    "\n",
    "### Content-Based Filtering:\n",
    "\n",
    "**Pros:**\n",
    "\n",
    "- Recommends based on specific user preferences.\n",
    "- Addresses the cold start problem with new users.\n",
    "\n",
    "**Cons:**\n",
    "- Requires detailed information about the content of the products.\n",
    "- Difficulties handling both diversity and information loss simultaneously.\n",
    "\n",
    "### Hybrid Methods:\n",
    "\n",
    "**Pros:**\n",
    "- Combines the advantages of both collaborative and content-based methods.\n",
    "- Can mitigate the cold start problem and improve recommendation accuracy.\n",
    "  \n",
    "**Cons:**\n",
    "- Complex deployment and maintenance processes.\n",
    "\n",
    "### Matrix Factorization (SVD, ALS):\n",
    "  \n",
    "**Pros:**\n",
    "- Performs well on large datasets and can handle sparse matrices.\n",
    "- Effective with the cold start problem.\n",
    "  \n",
    "**Cons:**\n",
    "- Training process can be time-consuming and computationally intensive.\n",
    "  \n",
    "### Deep Learning-Based Recommender Systems:\n",
    "  \n",
    "**Pros:**\n",
    "- Capable of learning complex representations of data.\n",
    "- Effective with large datasets and can handle diverse data types.\n",
    "  \n",
    "**Cons:**\n",
    "- Requires a substantial amount of data for training.\n",
    "- Demands powerful computational resources.\n",
    "\n",
    "\n",
    "\n",
    "\n"
   ]
  }
 ],
 "metadata": {
  "kernelspec": {
   "display_name": "Python 3 (ipykernel)",
   "language": "python",
   "name": "python3"
  },
  "language_info": {
   "codemirror_mode": {
    "name": "ipython",
    "version": 3
   },
   "file_extension": ".py",
   "mimetype": "text/x-python",
   "name": "python",
   "nbconvert_exporter": "python",
   "pygments_lexer": "ipython3",
   "version": "3.11.4"
  }
 },
 "nbformat": 4,
 "nbformat_minor": 5
}
